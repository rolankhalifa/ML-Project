{
 "cells": [
  {
   "cell_type": "markdown",
   "metadata": {},
   "source": [
    "# Machine Learning Classification Project "
   ]
  },
  {
   "cell_type": "markdown",
   "metadata": {},
   "source": [
    "# ------------------------------------------------------------------------------------------------------------"
   ]
  },
  {
   "cell_type": "markdown",
   "metadata": {},
   "source": [
    "## Hanya Ashraf 46-0347"
   ]
  },
  {
   "cell_type": "markdown",
   "metadata": {},
   "source": [
    "## Maram Sherif 46-0935"
   ]
  },
  {
   "cell_type": "markdown",
   "metadata": {},
   "source": [
    "## Lamis Ahmed 46-1829"
   ]
  },
  {
   "cell_type": "markdown",
   "metadata": {},
   "source": [
    "## Rolan Khalifa 46-7189"
   ]
  },
  {
   "cell_type": "markdown",
   "metadata": {},
   "source": [
    "# ------------------------------------------------------------------------------------------------------------"
   ]
  },
  {
   "cell_type": "markdown",
   "metadata": {},
   "source": [
    "# Part 1 - Data Preprocessing"
   ]
  },
  {
   "cell_type": "code",
   "execution_count": 127,
   "metadata": {},
   "outputs": [],
   "source": [
    "import matplotlib.pyplot as plt\n",
    "import seaborn as sns\n",
    "import pandas as pd\n",
    "import numpy as np\n",
    "import math\n",
    "from scipy import stats\n",
    "import numpy as np\n",
    "from sklearn import preprocessing\n",
    "from datetime import datetime, date\n",
    "import requests\n",
    "import string\n",
    "from matplotlib import pyplot as plt\n",
    "from sklearn.model_selection import StratifiedKFold\n",
    "from sklearn.model_selection import KFold\n",
    "from sklearn.model_selection import train_test_split\n",
    "from sklearn.metrics import accuracy_score\n",
    "import tensorflow \n",
    "import keras\n",
    "from sklearn.neural_network import MLPClassifier\n",
    "from tensorflow.keras.models import Sequential\n",
    "from keras.models import Sequential\n",
    "from keras.layers import Dense\n",
    "from keras.layers import Flatten\n",
    "from keras.layers import Dropout\n",
    "from sklearn.neighbors import KNeighborsClassifier\n",
    "from sklearn.preprocessing import MinMaxScaler\n",
    "from scipy.stats import shapiro\n",
    "from sklearn.model_selection import train_test_split\n",
    "from sklearn.model_selection import cross_val_score\n",
    "from sklearn.model_selection import GridSearchCV\n",
    "from sklearn.model_selection import learning_curve\n",
    "from sklearn.linear_model import LogisticRegression\n",
    "from sklearn.preprocessing import LabelEncoder\n",
    "from sklearn.naive_bayes import GaussianNB\n",
    "from sklearn.metrics import roc_curve, auc, confusion_matrix\n",
    "from sklearn.preprocessing import label_binarize\n",
    "from itertools import cycle\n",
    "from sklearn.naive_bayes import MultinomialNB"
   ]
  },
  {
   "cell_type": "code",
   "execution_count": 5,
   "metadata": {},
   "outputs": [],
   "source": [
    "file='1986_Accidents_UK.csv'\n",
    "df_accidents = pd.read_csv(file,low_memory=False)"
   ]
  },
  {
   "cell_type": "markdown",
   "metadata": {},
   "source": [
    "## Data Exploration\n"
   ]
  },
  {
   "cell_type": "code",
   "execution_count": 6,
   "metadata": {},
   "outputs": [
    {
     "data": {
      "text/html": [
       "<div>\n",
       "<style scoped>\n",
       "    .dataframe tbody tr th:only-of-type {\n",
       "        vertical-align: middle;\n",
       "    }\n",
       "\n",
       "    .dataframe tbody tr th {\n",
       "        vertical-align: top;\n",
       "    }\n",
       "\n",
       "    .dataframe thead th {\n",
       "        text-align: right;\n",
       "    }\n",
       "</style>\n",
       "<table border=\"1\" class=\"dataframe\">\n",
       "  <thead>\n",
       "    <tr style=\"text-align: right;\">\n",
       "      <th></th>\n",
       "      <th>accident_index</th>\n",
       "      <th>accident_year</th>\n",
       "      <th>accident_reference</th>\n",
       "      <th>location_easting_osgr</th>\n",
       "      <th>location_northing_osgr</th>\n",
       "      <th>longitude</th>\n",
       "      <th>latitude</th>\n",
       "      <th>police_force</th>\n",
       "      <th>accident_severity</th>\n",
       "      <th>number_of_vehicles</th>\n",
       "      <th>...</th>\n",
       "      <th>pedestrian_crossing_physical_facilities</th>\n",
       "      <th>light_conditions</th>\n",
       "      <th>weather_conditions</th>\n",
       "      <th>road_surface_conditions</th>\n",
       "      <th>special_conditions_at_site</th>\n",
       "      <th>carriageway_hazards</th>\n",
       "      <th>urban_or_rural_area</th>\n",
       "      <th>did_police_officer_attend_scene_of_accident</th>\n",
       "      <th>trunk_road_flag</th>\n",
       "      <th>lsoa_of_accident_location</th>\n",
       "    </tr>\n",
       "  </thead>\n",
       "  <tbody>\n",
       "    <tr>\n",
       "      <th>0</th>\n",
       "      <td>198601AD00001</td>\n",
       "      <td>1986</td>\n",
       "      <td>01AD00001</td>\n",
       "      <td>529950.0</td>\n",
       "      <td>180480.0</td>\n",
       "      <td>NaN</td>\n",
       "      <td>NaN</td>\n",
       "      <td>Metropolitan Police</td>\n",
       "      <td>Serious</td>\n",
       "      <td>1</td>\n",
       "      <td>...</td>\n",
       "      <td>Pelican, puffin, toucan or similar non-junctio...</td>\n",
       "      <td>Darkness - lights lit</td>\n",
       "      <td>Raining no high winds</td>\n",
       "      <td>Wet or damp</td>\n",
       "      <td>None</td>\n",
       "      <td>None</td>\n",
       "      <td>Data missing or out of range</td>\n",
       "      <td>Data missing or out of range</td>\n",
       "      <td>Data missing or out of range</td>\n",
       "      <td>-1</td>\n",
       "    </tr>\n",
       "    <tr>\n",
       "      <th>1</th>\n",
       "      <td>198601AD00002</td>\n",
       "      <td>1986</td>\n",
       "      <td>01AD00002</td>\n",
       "      <td>530150.0</td>\n",
       "      <td>179800.0</td>\n",
       "      <td>NaN</td>\n",
       "      <td>NaN</td>\n",
       "      <td>Metropolitan Police</td>\n",
       "      <td>Slight</td>\n",
       "      <td>2</td>\n",
       "      <td>...</td>\n",
       "      <td>Pelican, puffin, toucan or similar non-junctio...</td>\n",
       "      <td>Daylight</td>\n",
       "      <td>Raining no high winds</td>\n",
       "      <td>Wet or damp</td>\n",
       "      <td>None</td>\n",
       "      <td>None</td>\n",
       "      <td>Data missing or out of range</td>\n",
       "      <td>Data missing or out of range</td>\n",
       "      <td>Data missing or out of range</td>\n",
       "      <td>-1</td>\n",
       "    </tr>\n",
       "  </tbody>\n",
       "</table>\n",
       "<p>2 rows × 36 columns</p>\n",
       "</div>"
      ],
      "text/plain": [
       "  accident_index  accident_year accident_reference  location_easting_osgr  \\\n",
       "0  198601AD00001           1986          01AD00001               529950.0   \n",
       "1  198601AD00002           1986          01AD00002               530150.0   \n",
       "\n",
       "   location_northing_osgr  longitude  latitude         police_force  \\\n",
       "0                180480.0        NaN       NaN  Metropolitan Police   \n",
       "1                179800.0        NaN       NaN  Metropolitan Police   \n",
       "\n",
       "  accident_severity  number_of_vehicles  ...  \\\n",
       "0           Serious                   1  ...   \n",
       "1            Slight                   2  ...   \n",
       "\n",
       "             pedestrian_crossing_physical_facilities       light_conditions  \\\n",
       "0  Pelican, puffin, toucan or similar non-junctio...  Darkness - lights lit   \n",
       "1  Pelican, puffin, toucan or similar non-junctio...               Daylight   \n",
       "\n",
       "      weather_conditions road_surface_conditions special_conditions_at_site  \\\n",
       "0  Raining no high winds             Wet or damp                       None   \n",
       "1  Raining no high winds             Wet or damp                       None   \n",
       "\n",
       "   carriageway_hazards           urban_or_rural_area  \\\n",
       "0                 None  Data missing or out of range   \n",
       "1                 None  Data missing or out of range   \n",
       "\n",
       "  did_police_officer_attend_scene_of_accident               trunk_road_flag  \\\n",
       "0                Data missing or out of range  Data missing or out of range   \n",
       "1                Data missing or out of range  Data missing or out of range   \n",
       "\n",
       "  lsoa_of_accident_location  \n",
       "0                        -1  \n",
       "1                        -1  \n",
       "\n",
       "[2 rows x 36 columns]"
      ]
     },
     "execution_count": 6,
     "metadata": {},
     "output_type": "execute_result"
    }
   ],
   "source": [
    "df_accidents.head(2)"
   ]
  },
  {
   "cell_type": "code",
   "execution_count": 7,
   "metadata": {},
   "outputs": [],
   "source": [
    "df_accidents=df_accidents.drop([\"accident_index\"],axis=1)"
   ]
  },
  {
   "cell_type": "code",
   "execution_count": 8,
   "metadata": {},
   "outputs": [
    {
     "data": {
      "text/plain": [
       "Index(['accident_year', 'accident_reference', 'location_easting_osgr',\n",
       "       'location_northing_osgr', 'longitude', 'latitude', 'police_force',\n",
       "       'accident_severity', 'number_of_vehicles', 'number_of_casualties',\n",
       "       'date', 'day_of_week', 'time', 'local_authority_district',\n",
       "       'local_authority_ons_district', 'local_authority_highway',\n",
       "       'first_road_class', 'first_road_number', 'road_type', 'speed_limit',\n",
       "       'junction_detail', 'junction_control', 'second_road_class',\n",
       "       'second_road_number', 'pedestrian_crossing_human_control',\n",
       "       'pedestrian_crossing_physical_facilities', 'light_conditions',\n",
       "       'weather_conditions', 'road_surface_conditions',\n",
       "       'special_conditions_at_site', 'carriageway_hazards',\n",
       "       'urban_or_rural_area', 'did_police_officer_attend_scene_of_accident',\n",
       "       'trunk_road_flag', 'lsoa_of_accident_location'],\n",
       "      dtype='object')"
      ]
     },
     "execution_count": 8,
     "metadata": {},
     "output_type": "execute_result"
    }
   ],
   "source": [
    "cols = df_accidents.columns #Checking column names\n",
    "cols"
   ]
  },
  {
   "cell_type": "code",
   "execution_count": 9,
   "metadata": {},
   "outputs": [
    {
     "data": {
      "text/plain": [
       "(247878, 35)"
      ]
     },
     "execution_count": 9,
     "metadata": {},
     "output_type": "execute_result"
    }
   ],
   "source": [
    "df_accidents.shape #Checking dataset shape"
   ]
  },
  {
   "cell_type": "code",
   "execution_count": 10,
   "metadata": {},
   "outputs": [
    {
     "name": "stdout",
     "output_type": "stream",
     "text": [
      "<class 'pandas.core.frame.DataFrame'>\n",
      "RangeIndex: 247878 entries, 0 to 247877\n",
      "Data columns (total 35 columns):\n",
      " #   Column                                       Non-Null Count   Dtype  \n",
      "---  ------                                       --------------   -----  \n",
      " 0   accident_year                                247878 non-null  int64  \n",
      " 1   accident_reference                           247878 non-null  object \n",
      " 2   location_easting_osgr                        247651 non-null  float64\n",
      " 3   location_northing_osgr                       247651 non-null  float64\n",
      " 4   longitude                                    0 non-null       float64\n",
      " 5   latitude                                     0 non-null       float64\n",
      " 6   police_force                                 247878 non-null  object \n",
      " 7   accident_severity                            247878 non-null  object \n",
      " 8   number_of_vehicles                           247878 non-null  int64  \n",
      " 9   number_of_casualties                         247878 non-null  int64  \n",
      " 10  date                                         247878 non-null  object \n",
      " 11  day_of_week                                  247878 non-null  object \n",
      " 12  time                                         247878 non-null  object \n",
      " 13  local_authority_district                     247878 non-null  object \n",
      " 14  local_authority_ons_district                 247878 non-null  int64  \n",
      " 15  local_authority_highway                      247878 non-null  int64  \n",
      " 16  first_road_class                             247878 non-null  object \n",
      " 17  first_road_number                            247851 non-null  object \n",
      " 18  road_type                                    247009 non-null  object \n",
      " 19  speed_limit                                  247878 non-null  float64\n",
      " 20  junction_detail                              247878 non-null  object \n",
      " 21  junction_control                             247878 non-null  object \n",
      " 22  second_road_class                            247878 non-null  object \n",
      " 23  second_road_number                           148926 non-null  object \n",
      " 24  pedestrian_crossing_human_control            247878 non-null  object \n",
      " 25  pedestrian_crossing_physical_facilities      247878 non-null  object \n",
      " 26  light_conditions                             247878 non-null  object \n",
      " 27  weather_conditions                           245672 non-null  object \n",
      " 28  road_surface_conditions                      247878 non-null  object \n",
      " 29  special_conditions_at_site                   247878 non-null  object \n",
      " 30  carriageway_hazards                          247878 non-null  object \n",
      " 31  urban_or_rural_area                          247878 non-null  object \n",
      " 32  did_police_officer_attend_scene_of_accident  247878 non-null  object \n",
      " 33  trunk_road_flag                              247878 non-null  object \n",
      " 34  lsoa_of_accident_location                    247878 non-null  int64  \n",
      "dtypes: float64(5), int64(6), object(24)\n",
      "memory usage: 66.2+ MB\n"
     ]
    }
   ],
   "source": [
    "df_accidents.info() #Checking non null values and datatypes"
   ]
  },
  {
   "cell_type": "code",
   "execution_count": 11,
   "metadata": {},
   "outputs": [
    {
     "data": {
      "text/html": [
       "<div>\n",
       "<style scoped>\n",
       "    .dataframe tbody tr th:only-of-type {\n",
       "        vertical-align: middle;\n",
       "    }\n",
       "\n",
       "    .dataframe tbody tr th {\n",
       "        vertical-align: top;\n",
       "    }\n",
       "\n",
       "    .dataframe thead th {\n",
       "        text-align: right;\n",
       "    }\n",
       "</style>\n",
       "<table border=\"1\" class=\"dataframe\">\n",
       "  <thead>\n",
       "    <tr style=\"text-align: right;\">\n",
       "      <th></th>\n",
       "      <th>accident_year</th>\n",
       "      <th>location_easting_osgr</th>\n",
       "      <th>location_northing_osgr</th>\n",
       "      <th>longitude</th>\n",
       "      <th>latitude</th>\n",
       "      <th>number_of_vehicles</th>\n",
       "      <th>number_of_casualties</th>\n",
       "      <th>local_authority_ons_district</th>\n",
       "      <th>local_authority_highway</th>\n",
       "      <th>speed_limit</th>\n",
       "      <th>lsoa_of_accident_location</th>\n",
       "    </tr>\n",
       "  </thead>\n",
       "  <tbody>\n",
       "    <tr>\n",
       "      <th>count</th>\n",
       "      <td>247878.0</td>\n",
       "      <td>247651.000000</td>\n",
       "      <td>247651.000000</td>\n",
       "      <td>0.0</td>\n",
       "      <td>0.0</td>\n",
       "      <td>247878.000000</td>\n",
       "      <td>247878.000000</td>\n",
       "      <td>247878.0</td>\n",
       "      <td>247878.0</td>\n",
       "      <td>247878.000000</td>\n",
       "      <td>247878.0</td>\n",
       "    </tr>\n",
       "    <tr>\n",
       "      <th>mean</th>\n",
       "      <td>1986.0</td>\n",
       "      <td>432377.670391</td>\n",
       "      <td>309222.919269</td>\n",
       "      <td>NaN</td>\n",
       "      <td>NaN</td>\n",
       "      <td>1.715703</td>\n",
       "      <td>1.296965</td>\n",
       "      <td>-1.0</td>\n",
       "      <td>-1.0</td>\n",
       "      <td>38.375503</td>\n",
       "      <td>-1.0</td>\n",
       "    </tr>\n",
       "    <tr>\n",
       "      <th>std</th>\n",
       "      <td>0.0</td>\n",
       "      <td>119578.934802</td>\n",
       "      <td>210251.399336</td>\n",
       "      <td>NaN</td>\n",
       "      <td>NaN</td>\n",
       "      <td>0.725523</td>\n",
       "      <td>0.790182</td>\n",
       "      <td>0.0</td>\n",
       "      <td>0.0</td>\n",
       "      <td>13.564102</td>\n",
       "      <td>0.0</td>\n",
       "    </tr>\n",
       "    <tr>\n",
       "      <th>min</th>\n",
       "      <td>1986.0</td>\n",
       "      <td>2200.000000</td>\n",
       "      <td>50.000000</td>\n",
       "      <td>NaN</td>\n",
       "      <td>NaN</td>\n",
       "      <td>1.000000</td>\n",
       "      <td>1.000000</td>\n",
       "      <td>-1.0</td>\n",
       "      <td>-1.0</td>\n",
       "      <td>0.000000</td>\n",
       "      <td>-1.0</td>\n",
       "    </tr>\n",
       "    <tr>\n",
       "      <th>25%</th>\n",
       "      <td>1986.0</td>\n",
       "      <td>376600.000000</td>\n",
       "      <td>173590.000000</td>\n",
       "      <td>NaN</td>\n",
       "      <td>NaN</td>\n",
       "      <td>1.000000</td>\n",
       "      <td>1.000000</td>\n",
       "      <td>-1.0</td>\n",
       "      <td>-1.0</td>\n",
       "      <td>30.000000</td>\n",
       "      <td>-1.0</td>\n",
       "    </tr>\n",
       "    <tr>\n",
       "      <th>50%</th>\n",
       "      <td>1986.0</td>\n",
       "      <td>444170.000000</td>\n",
       "      <td>225000.000000</td>\n",
       "      <td>NaN</td>\n",
       "      <td>NaN</td>\n",
       "      <td>2.000000</td>\n",
       "      <td>1.000000</td>\n",
       "      <td>-1.0</td>\n",
       "      <td>-1.0</td>\n",
       "      <td>30.000000</td>\n",
       "      <td>-1.0</td>\n",
       "    </tr>\n",
       "    <tr>\n",
       "      <th>75%</th>\n",
       "      <td>1986.0</td>\n",
       "      <td>524800.000000</td>\n",
       "      <td>398200.000000</td>\n",
       "      <td>NaN</td>\n",
       "      <td>NaN</td>\n",
       "      <td>2.000000</td>\n",
       "      <td>1.000000</td>\n",
       "      <td>-1.0</td>\n",
       "      <td>-1.0</td>\n",
       "      <td>40.000000</td>\n",
       "      <td>-1.0</td>\n",
       "    </tr>\n",
       "    <tr>\n",
       "      <th>max</th>\n",
       "      <td>1986.0</td>\n",
       "      <td>985000.000000</td>\n",
       "      <td>999900.000000</td>\n",
       "      <td>NaN</td>\n",
       "      <td>NaN</td>\n",
       "      <td>51.000000</td>\n",
       "      <td>63.000000</td>\n",
       "      <td>-1.0</td>\n",
       "      <td>-1.0</td>\n",
       "      <td>70.000000</td>\n",
       "      <td>-1.0</td>\n",
       "    </tr>\n",
       "  </tbody>\n",
       "</table>\n",
       "</div>"
      ],
      "text/plain": [
       "       accident_year  location_easting_osgr  location_northing_osgr  \\\n",
       "count       247878.0          247651.000000           247651.000000   \n",
       "mean          1986.0          432377.670391           309222.919269   \n",
       "std              0.0          119578.934802           210251.399336   \n",
       "min           1986.0            2200.000000               50.000000   \n",
       "25%           1986.0          376600.000000           173590.000000   \n",
       "50%           1986.0          444170.000000           225000.000000   \n",
       "75%           1986.0          524800.000000           398200.000000   \n",
       "max           1986.0          985000.000000           999900.000000   \n",
       "\n",
       "       longitude  latitude  number_of_vehicles  number_of_casualties  \\\n",
       "count        0.0       0.0       247878.000000         247878.000000   \n",
       "mean         NaN       NaN            1.715703              1.296965   \n",
       "std          NaN       NaN            0.725523              0.790182   \n",
       "min          NaN       NaN            1.000000              1.000000   \n",
       "25%          NaN       NaN            1.000000              1.000000   \n",
       "50%          NaN       NaN            2.000000              1.000000   \n",
       "75%          NaN       NaN            2.000000              1.000000   \n",
       "max          NaN       NaN           51.000000             63.000000   \n",
       "\n",
       "       local_authority_ons_district  local_authority_highway    speed_limit  \\\n",
       "count                      247878.0                 247878.0  247878.000000   \n",
       "mean                           -1.0                     -1.0      38.375503   \n",
       "std                             0.0                      0.0      13.564102   \n",
       "min                            -1.0                     -1.0       0.000000   \n",
       "25%                            -1.0                     -1.0      30.000000   \n",
       "50%                            -1.0                     -1.0      30.000000   \n",
       "75%                            -1.0                     -1.0      40.000000   \n",
       "max                            -1.0                     -1.0      70.000000   \n",
       "\n",
       "       lsoa_of_accident_location  \n",
       "count                   247878.0  \n",
       "mean                        -1.0  \n",
       "std                          0.0  \n",
       "min                         -1.0  \n",
       "25%                         -1.0  \n",
       "50%                         -1.0  \n",
       "75%                         -1.0  \n",
       "max                         -1.0  "
      ]
     },
     "execution_count": 11,
     "metadata": {},
     "output_type": "execute_result"
    }
   ],
   "source": [
    "df_accidents.describe() #Checking dataset statistics"
   ]
  },
  {
   "cell_type": "code",
   "execution_count": 12,
   "metadata": {},
   "outputs": [
    {
     "data": {
      "text/plain": [
       "accident_year                                       1\n",
       "accident_reference                             247878\n",
       "location_easting_osgr                           34312\n",
       "location_northing_osgr                          43209\n",
       "longitude                                           0\n",
       "latitude                                            0\n",
       "police_force                                       51\n",
       "accident_severity                                   3\n",
       "number_of_vehicles                                 22\n",
       "number_of_casualties                               29\n",
       "date                                              365\n",
       "day_of_week                                         7\n",
       "time                                             1427\n",
       "local_authority_district                          459\n",
       "local_authority_ons_district                        1\n",
       "local_authority_highway                             1\n",
       "first_road_class                                    7\n",
       "first_road_number                                3438\n",
       "road_type                                           4\n",
       "speed_limit                                        25\n",
       "junction_detail                                    10\n",
       "junction_control                                    5\n",
       "second_road_class                                   7\n",
       "second_road_number                               2883\n",
       "pedestrian_crossing_human_control                   4\n",
       "pedestrian_crossing_physical_facilities             7\n",
       "light_conditions                                    6\n",
       "weather_conditions                                  8\n",
       "road_surface_conditions                             6\n",
       "special_conditions_at_site                          7\n",
       "carriageway_hazards                                 7\n",
       "urban_or_rural_area                                 1\n",
       "did_police_officer_attend_scene_of_accident         1\n",
       "trunk_road_flag                                     1\n",
       "lsoa_of_accident_location                           1\n",
       "dtype: int64"
      ]
     },
     "execution_count": 12,
     "metadata": {},
     "output_type": "execute_result"
    }
   ],
   "source": [
    "n_unique = df_accidents.nunique()  #Checking unique values because if too many unique values,won't help the ML model to learn\n",
    "n_unique"
   ]
  },
  {
   "cell_type": "markdown",
   "metadata": {},
   "source": [
    "# ------------------------------------------------------------------------------------------------------------"
   ]
  },
  {
   "cell_type": "markdown",
   "metadata": {},
   "source": [
    "# Data Cleaning"
   ]
  },
  {
   "cell_type": "markdown",
   "metadata": {},
   "source": [
    "This part includes cleaning the data + feature selection for the features we believe will be effective in classifying the accident as severe, fatal or slight. Feature selection is based as well on several trials on the 4 models and selecting the ones that lead to the highest accuracy and good model performance."
   ]
  },
  {
   "cell_type": "markdown",
   "metadata": {},
   "source": [
    "We will create a copy of the dataset first and name it Cleandf to avoid distortion in the original copy "
   ]
  },
  {
   "cell_type": "code",
   "execution_count": 13,
   "metadata": {},
   "outputs": [],
   "source": [
    "Cleandf=df_accidents.copy() "
   ]
  },
  {
   "cell_type": "markdown",
   "metadata": {},
   "source": [
    "Before we do any handling, we will remove missing indicators and put null values"
   ]
  },
  {
   "cell_type": "code",
   "execution_count": 14,
   "metadata": {},
   "outputs": [],
   "source": [
    "Cleandf = Cleandf.replace('Data missing or out of range', np.nan) "
   ]
  },
  {
   "cell_type": "code",
   "execution_count": 15,
   "metadata": {},
   "outputs": [
    {
     "data": {
      "text/plain": [
       "accident_year                                       0\n",
       "accident_reference                                  0\n",
       "location_easting_osgr                             227\n",
       "location_northing_osgr                            227\n",
       "longitude                                      247878\n",
       "latitude                                       247878\n",
       "police_force                                        0\n",
       "accident_severity                                   0\n",
       "number_of_vehicles                                  0\n",
       "number_of_casualties                                0\n",
       "date                                                0\n",
       "day_of_week                                         0\n",
       "time                                                0\n",
       "local_authority_district                            0\n",
       "local_authority_ons_district                        0\n",
       "local_authority_highway                             0\n",
       "first_road_class                                    0\n",
       "first_road_number                                  27\n",
       "road_type                                         869\n",
       "speed_limit                                         0\n",
       "junction_detail                                     4\n",
       "junction_control                                98848\n",
       "second_road_class                                   0\n",
       "second_road_number                              98952\n",
       "pedestrian_crossing_human_control                   4\n",
       "pedestrian_crossing_physical_facilities             4\n",
       "light_conditions                                   29\n",
       "weather_conditions                               2206\n",
       "road_surface_conditions                            46\n",
       "special_conditions_at_site                          2\n",
       "carriageway_hazards                                30\n",
       "urban_or_rural_area                            247878\n",
       "did_police_officer_attend_scene_of_accident    247878\n",
       "trunk_road_flag                                247878\n",
       "lsoa_of_accident_location                           0\n",
       "dtype: int64"
      ]
     },
     "execution_count": 15,
     "metadata": {},
     "output_type": "execute_result"
    }
   ],
   "source": [
    "Cleandf.isnull().sum() #number of null values for each variable"
   ]
  },
  {
   "cell_type": "code",
   "execution_count": 16,
   "metadata": {},
   "outputs": [
    {
     "data": {
      "text/plain": [
       "accident_year                                    0.000000\n",
       "accident_reference                               0.000000\n",
       "location_easting_osgr                            0.091577\n",
       "location_northing_osgr                           0.091577\n",
       "longitude                                      100.000000\n",
       "latitude                                       100.000000\n",
       "police_force                                     0.000000\n",
       "accident_severity                                0.000000\n",
       "number_of_vehicles                               0.000000\n",
       "number_of_casualties                             0.000000\n",
       "date                                             0.000000\n",
       "day_of_week                                      0.000000\n",
       "time                                             0.000000\n",
       "local_authority_district                         0.000000\n",
       "local_authority_ons_district                     0.000000\n",
       "local_authority_highway                          0.000000\n",
       "first_road_class                                 0.000000\n",
       "first_road_number                                0.010892\n",
       "road_type                                        0.350576\n",
       "speed_limit                                      0.000000\n",
       "junction_detail                                  0.001614\n",
       "junction_control                                39.877682\n",
       "second_road_class                                0.000000\n",
       "second_road_number                              39.919638\n",
       "pedestrian_crossing_human_control                0.001614\n",
       "pedestrian_crossing_physical_facilities          0.001614\n",
       "light_conditions                                 0.011699\n",
       "weather_conditions                               0.889954\n",
       "road_surface_conditions                          0.018558\n",
       "special_conditions_at_site                       0.000807\n",
       "carriageway_hazards                              0.012103\n",
       "urban_or_rural_area                            100.000000\n",
       "did_police_officer_attend_scene_of_accident    100.000000\n",
       "trunk_road_flag                                100.000000\n",
       "lsoa_of_accident_location                        0.000000\n",
       "dtype: float64"
      ]
     },
     "execution_count": 16,
     "metadata": {},
     "output_type": "execute_result"
    }
   ],
   "source": [
    "Cleandf.isnull().mean()*100 #Percentage of missing data"
   ]
  },
  {
   "cell_type": "code",
   "execution_count": 17,
   "metadata": {},
   "outputs": [
    {
     "data": {
      "text/plain": [
       "0"
      ]
     },
     "execution_count": 17,
     "metadata": {},
     "output_type": "execute_result"
    }
   ],
   "source": [
    "Cleandf.duplicated().sum() "
   ]
  },
  {
   "cell_type": "markdown",
   "metadata": {},
   "source": [
    "There are no duplicate rows in the dataset"
   ]
  },
  {
   "cell_type": "markdown",
   "metadata": {},
   "source": [
    "# ------------------------------------------------------------------------------------------------------------"
   ]
  },
  {
   "cell_type": "markdown",
   "metadata": {},
   "source": [
    "## Handling Missing data"
   ]
  },
  {
   "cell_type": "markdown",
   "metadata": {},
   "source": [
    "First , we will detect and remove columns will all null values\n"
   ]
  },
  {
   "cell_type": "code",
   "execution_count": 18,
   "metadata": {},
   "outputs": [
    {
     "data": {
      "text/plain": [
       "(247878, 30)"
      ]
     },
     "execution_count": 18,
     "metadata": {},
     "output_type": "execute_result"
    }
   ],
   "source": [
    "Cleandf.dropna(axis='columns',how='all',inplace=True)\n",
    "Cleandf.shape  "
   ]
  },
  {
   "cell_type": "markdown",
   "metadata": {},
   "source": [
    "5 columns were removed"
   ]
  },
  {
   "cell_type": "markdown",
   "metadata": {},
   "source": [
    "Then, we will also remove columns with 1 unique value as it has no importance for prediction when using ML models because of low variance"
   ]
  },
  {
   "cell_type": "code",
   "execution_count": 19,
   "metadata": {},
   "outputs": [],
   "source": [
    "for col in Cleandf.columns:\n",
    "    if len(Cleandf[col].unique()) == 1:\n",
    "        Cleandf.drop(col,inplace=True,axis=1)"
   ]
  },
  {
   "cell_type": "code",
   "execution_count": 20,
   "metadata": {},
   "outputs": [
    {
     "data": {
      "text/plain": [
       "(247878, 26)"
      ]
     },
     "execution_count": 20,
     "metadata": {},
     "output_type": "execute_result"
    }
   ],
   "source": [
    "Cleandf.shape "
   ]
  },
  {
   "cell_type": "markdown",
   "metadata": {},
   "source": [
    "4 more columns were removed"
   ]
  },
  {
   "cell_type": "markdown",
   "metadata": {},
   "source": [
    "We will also remove columns with ALL unique values in the dataset since the variance is 100% and it doesn't add any information to the dataset. In our case it is the accident reference since it is already included in the second part of accident index column after the year 1986--------- where (---------) refers to the accident reference as shown below"
   ]
  },
  {
   "cell_type": "code",
   "execution_count": 21,
   "metadata": {},
   "outputs": [
    {
     "data": {
      "text/html": [
       "<div>\n",
       "<style scoped>\n",
       "    .dataframe tbody tr th:only-of-type {\n",
       "        vertical-align: middle;\n",
       "    }\n",
       "\n",
       "    .dataframe tbody tr th {\n",
       "        vertical-align: top;\n",
       "    }\n",
       "\n",
       "    .dataframe thead th {\n",
       "        text-align: right;\n",
       "    }\n",
       "</style>\n",
       "<table border=\"1\" class=\"dataframe\">\n",
       "  <thead>\n",
       "    <tr style=\"text-align: right;\">\n",
       "      <th></th>\n",
       "      <th>accident_reference</th>\n",
       "    </tr>\n",
       "  </thead>\n",
       "  <tbody>\n",
       "    <tr>\n",
       "      <th>0</th>\n",
       "      <td>01AD00001</td>\n",
       "    </tr>\n",
       "    <tr>\n",
       "      <th>1</th>\n",
       "      <td>01AD00002</td>\n",
       "    </tr>\n",
       "    <tr>\n",
       "      <th>2</th>\n",
       "      <td>01AD00003</td>\n",
       "    </tr>\n",
       "    <tr>\n",
       "      <th>3</th>\n",
       "      <td>01AD00004</td>\n",
       "    </tr>\n",
       "    <tr>\n",
       "      <th>4</th>\n",
       "      <td>01AD00005</td>\n",
       "    </tr>\n",
       "    <tr>\n",
       "      <th>...</th>\n",
       "      <td>...</td>\n",
       "    </tr>\n",
       "    <tr>\n",
       "      <th>247873</th>\n",
       "      <td>982446578</td>\n",
       "    </tr>\n",
       "    <tr>\n",
       "      <th>247874</th>\n",
       "      <td>982456579</td>\n",
       "    </tr>\n",
       "    <tr>\n",
       "      <th>247875</th>\n",
       "      <td>982457580</td>\n",
       "    </tr>\n",
       "    <tr>\n",
       "      <th>247876</th>\n",
       "      <td>982464581</td>\n",
       "    </tr>\n",
       "    <tr>\n",
       "      <th>247877</th>\n",
       "      <td>982831191</td>\n",
       "    </tr>\n",
       "  </tbody>\n",
       "</table>\n",
       "<p>247878 rows × 1 columns</p>\n",
       "</div>"
      ],
      "text/plain": [
       "       accident_reference\n",
       "0               01AD00001\n",
       "1               01AD00002\n",
       "2               01AD00003\n",
       "3               01AD00004\n",
       "4               01AD00005\n",
       "...                   ...\n",
       "247873          982446578\n",
       "247874          982456579\n",
       "247875          982457580\n",
       "247876          982464581\n",
       "247877          982831191\n",
       "\n",
       "[247878 rows x 1 columns]"
      ]
     },
     "execution_count": 21,
     "metadata": {},
     "output_type": "execute_result"
    }
   ],
   "source": [
    "df_accidents[['accident_reference']]"
   ]
  },
  {
   "cell_type": "code",
   "execution_count": 22,
   "metadata": {},
   "outputs": [],
   "source": [
    "for col in Cleandf.columns:\n",
    "    if len(Cleandf[col].unique()) == len(Cleandf):\n",
    "        Cleandf.drop(col,inplace=True,axis=1)"
   ]
  },
  {
   "cell_type": "code",
   "execution_count": 23,
   "metadata": {},
   "outputs": [
    {
     "data": {
      "text/plain": [
       "(247878, 25)"
      ]
     },
     "execution_count": 23,
     "metadata": {},
     "output_type": "execute_result"
    }
   ],
   "source": [
    "Cleandf.shape "
   ]
  },
  {
   "cell_type": "markdown",
   "metadata": {},
   "source": [
    "1 column was removed which is the accident reference"
   ]
  },
  {
   "cell_type": "markdown",
   "metadata": {},
   "source": [
    "For handling missing data, we will consider that our threshold= 5%, if percentage of missing data is <5%, it is considered to be MCAR\n",
    "So, will apply CCA for numerical/categorial variables or Mean/Median imputation for numerical variables or Frequent Category imputation for numerical/categorial variables\n"
   ]
  },
  {
   "cell_type": "markdown",
   "metadata": {},
   "source": [
    "We will imputate missing columns sequentially as they appear in the dataframe"
   ]
  },
  {
   "cell_type": "markdown",
   "metadata": {},
   "source": [
    "Starting with location_easting_osgr & location_northing_osgr, the missing values are 0.09%<5%, so will apply CCA and assume it is MCAR"
   ]
  },
  {
   "cell_type": "code",
   "execution_count": 24,
   "metadata": {},
   "outputs": [
    {
     "data": {
      "text/html": [
       "<div>\n",
       "<style scoped>\n",
       "    .dataframe tbody tr th:only-of-type {\n",
       "        vertical-align: middle;\n",
       "    }\n",
       "\n",
       "    .dataframe tbody tr th {\n",
       "        vertical-align: top;\n",
       "    }\n",
       "\n",
       "    .dataframe thead th {\n",
       "        text-align: right;\n",
       "    }\n",
       "</style>\n",
       "<table border=\"1\" class=\"dataframe\">\n",
       "  <thead>\n",
       "    <tr style=\"text-align: right;\">\n",
       "      <th></th>\n",
       "      <th>location_easting_osgr</th>\n",
       "      <th>location_northing_osgr</th>\n",
       "      <th>police_force</th>\n",
       "      <th>accident_severity</th>\n",
       "      <th>number_of_vehicles</th>\n",
       "      <th>number_of_casualties</th>\n",
       "      <th>date</th>\n",
       "      <th>day_of_week</th>\n",
       "      <th>time</th>\n",
       "      <th>local_authority_district</th>\n",
       "      <th>...</th>\n",
       "      <th>junction_control</th>\n",
       "      <th>second_road_class</th>\n",
       "      <th>second_road_number</th>\n",
       "      <th>pedestrian_crossing_human_control</th>\n",
       "      <th>pedestrian_crossing_physical_facilities</th>\n",
       "      <th>light_conditions</th>\n",
       "      <th>weather_conditions</th>\n",
       "      <th>road_surface_conditions</th>\n",
       "      <th>special_conditions_at_site</th>\n",
       "      <th>carriageway_hazards</th>\n",
       "    </tr>\n",
       "  </thead>\n",
       "  <tbody>\n",
       "    <tr>\n",
       "      <th>47120</th>\n",
       "      <td>NaN</td>\n",
       "      <td>NaN</td>\n",
       "      <td>Cumbria</td>\n",
       "      <td>Slight</td>\n",
       "      <td>2</td>\n",
       "      <td>1</td>\n",
       "      <td>13/02/1986</td>\n",
       "      <td>Thursday</td>\n",
       "      <td>12:02</td>\n",
       "      <td>Barrow-in-Furness</td>\n",
       "      <td>...</td>\n",
       "      <td>NaN</td>\n",
       "      <td>-1</td>\n",
       "      <td>NaN</td>\n",
       "      <td>None within 50 metres</td>\n",
       "      <td>No physical crossing facilities within 50 metres</td>\n",
       "      <td>Daylight</td>\n",
       "      <td>Fine no high winds</td>\n",
       "      <td>Dry</td>\n",
       "      <td>None</td>\n",
       "      <td>None</td>\n",
       "    </tr>\n",
       "    <tr>\n",
       "      <th>47577</th>\n",
       "      <td>NaN</td>\n",
       "      <td>NaN</td>\n",
       "      <td>Cumbria</td>\n",
       "      <td>Slight</td>\n",
       "      <td>2</td>\n",
       "      <td>1</td>\n",
       "      <td>15/12/1986</td>\n",
       "      <td>Monday</td>\n",
       "      <td>16:45</td>\n",
       "      <td>Copeland</td>\n",
       "      <td>...</td>\n",
       "      <td>Give way or uncontrolled</td>\n",
       "      <td>Unclassified</td>\n",
       "      <td>first_road_class is C or Unclassified. These r...</td>\n",
       "      <td>None within 50 metres</td>\n",
       "      <td>No physical crossing facilities within 50 metres</td>\n",
       "      <td>Darkness - no lighting</td>\n",
       "      <td>Fine + high winds</td>\n",
       "      <td>Dry</td>\n",
       "      <td>None</td>\n",
       "      <td>None</td>\n",
       "    </tr>\n",
       "    <tr>\n",
       "      <th>80989</th>\n",
       "      <td>NaN</td>\n",
       "      <td>NaN</td>\n",
       "      <td>North Yorkshire</td>\n",
       "      <td>Slight</td>\n",
       "      <td>1</td>\n",
       "      <td>1</td>\n",
       "      <td>05/01/1986</td>\n",
       "      <td>Sunday</td>\n",
       "      <td>16:00</td>\n",
       "      <td>Richmondshire</td>\n",
       "      <td>...</td>\n",
       "      <td>NaN</td>\n",
       "      <td>-1</td>\n",
       "      <td>NaN</td>\n",
       "      <td>None within 50 metres</td>\n",
       "      <td>No physical crossing facilities within 50 metres</td>\n",
       "      <td>Daylight</td>\n",
       "      <td>Snowing no high winds</td>\n",
       "      <td>Frost or ice</td>\n",
       "      <td>None</td>\n",
       "      <td>None</td>\n",
       "    </tr>\n",
       "    <tr>\n",
       "      <th>80999</th>\n",
       "      <td>NaN</td>\n",
       "      <td>NaN</td>\n",
       "      <td>North Yorkshire</td>\n",
       "      <td>Serious</td>\n",
       "      <td>1</td>\n",
       "      <td>1</td>\n",
       "      <td>07/01/1986</td>\n",
       "      <td>Tuesday</td>\n",
       "      <td>12:30</td>\n",
       "      <td>Harrogate</td>\n",
       "      <td>...</td>\n",
       "      <td>NaN</td>\n",
       "      <td>-1</td>\n",
       "      <td>NaN</td>\n",
       "      <td>None within 50 metres</td>\n",
       "      <td>No physical crossing facilities within 50 metres</td>\n",
       "      <td>Daylight</td>\n",
       "      <td>Snowing no high winds</td>\n",
       "      <td>Frost or ice</td>\n",
       "      <td>None</td>\n",
       "      <td>None</td>\n",
       "    </tr>\n",
       "    <tr>\n",
       "      <th>81215</th>\n",
       "      <td>NaN</td>\n",
       "      <td>NaN</td>\n",
       "      <td>North Yorkshire</td>\n",
       "      <td>Serious</td>\n",
       "      <td>2</td>\n",
       "      <td>2</td>\n",
       "      <td>08/02/1986</td>\n",
       "      <td>Saturday</td>\n",
       "      <td>17:49</td>\n",
       "      <td>Selby</td>\n",
       "      <td>...</td>\n",
       "      <td>Stop sign</td>\n",
       "      <td>Unclassified</td>\n",
       "      <td>first_road_class is C or Unclassified. These r...</td>\n",
       "      <td>None within 50 metres</td>\n",
       "      <td>No physical crossing facilities within 50 metres</td>\n",
       "      <td>Darkness - no lighting</td>\n",
       "      <td>Fine no high winds</td>\n",
       "      <td>Wet or damp</td>\n",
       "      <td>None</td>\n",
       "      <td>None</td>\n",
       "    </tr>\n",
       "    <tr>\n",
       "      <th>...</th>\n",
       "      <td>...</td>\n",
       "      <td>...</td>\n",
       "      <td>...</td>\n",
       "      <td>...</td>\n",
       "      <td>...</td>\n",
       "      <td>...</td>\n",
       "      <td>...</td>\n",
       "      <td>...</td>\n",
       "      <td>...</td>\n",
       "      <td>...</td>\n",
       "      <td>...</td>\n",
       "      <td>...</td>\n",
       "      <td>...</td>\n",
       "      <td>...</td>\n",
       "      <td>...</td>\n",
       "      <td>...</td>\n",
       "      <td>...</td>\n",
       "      <td>...</td>\n",
       "      <td>...</td>\n",
       "      <td>...</td>\n",
       "      <td>...</td>\n",
       "    </tr>\n",
       "    <tr>\n",
       "      <th>208596</th>\n",
       "      <td>NaN</td>\n",
       "      <td>NaN</td>\n",
       "      <td>Avon and Somerset</td>\n",
       "      <td>Serious</td>\n",
       "      <td>1</td>\n",
       "      <td>1</td>\n",
       "      <td>19/04/1986</td>\n",
       "      <td>Saturday</td>\n",
       "      <td>08:00</td>\n",
       "      <td>Sedgemoor</td>\n",
       "      <td>...</td>\n",
       "      <td>NaN</td>\n",
       "      <td>-1</td>\n",
       "      <td>NaN</td>\n",
       "      <td>None within 50 metres</td>\n",
       "      <td>No physical crossing facilities within 50 metres</td>\n",
       "      <td>Daylight</td>\n",
       "      <td>Fine no high winds</td>\n",
       "      <td>Dry</td>\n",
       "      <td>Roadworks</td>\n",
       "      <td>None</td>\n",
       "    </tr>\n",
       "    <tr>\n",
       "      <th>208855</th>\n",
       "      <td>NaN</td>\n",
       "      <td>NaN</td>\n",
       "      <td>Avon and Somerset</td>\n",
       "      <td>Serious</td>\n",
       "      <td>2</td>\n",
       "      <td>1</td>\n",
       "      <td>31/12/1986</td>\n",
       "      <td>Wednesday</td>\n",
       "      <td>13:00</td>\n",
       "      <td>Taunton Deane</td>\n",
       "      <td>...</td>\n",
       "      <td>NaN</td>\n",
       "      <td>-1</td>\n",
       "      <td>NaN</td>\n",
       "      <td>None within 50 metres</td>\n",
       "      <td>No physical crossing facilities within 50 metres</td>\n",
       "      <td>Daylight</td>\n",
       "      <td>Fine no high winds</td>\n",
       "      <td>Wet or damp</td>\n",
       "      <td>None</td>\n",
       "      <td>None</td>\n",
       "    </tr>\n",
       "    <tr>\n",
       "      <th>216182</th>\n",
       "      <td>NaN</td>\n",
       "      <td>NaN</td>\n",
       "      <td>Dorset</td>\n",
       "      <td>Slight</td>\n",
       "      <td>3</td>\n",
       "      <td>1</td>\n",
       "      <td>29/04/1986</td>\n",
       "      <td>Tuesday</td>\n",
       "      <td>16:50</td>\n",
       "      <td>Bournemouth</td>\n",
       "      <td>...</td>\n",
       "      <td>Give way or uncontrolled</td>\n",
       "      <td>Unclassified</td>\n",
       "      <td>first_road_class is C or Unclassified. These r...</td>\n",
       "      <td>None within 50 metres</td>\n",
       "      <td>No physical crossing facilities within 50 metres</td>\n",
       "      <td>Daylight</td>\n",
       "      <td>Fine no high winds</td>\n",
       "      <td>Dry</td>\n",
       "      <td>None</td>\n",
       "      <td>None</td>\n",
       "    </tr>\n",
       "    <tr>\n",
       "      <th>225338</th>\n",
       "      <td>NaN</td>\n",
       "      <td>NaN</td>\n",
       "      <td>South Wales</td>\n",
       "      <td>Slight</td>\n",
       "      <td>1</td>\n",
       "      <td>1</td>\n",
       "      <td>24/01/1986</td>\n",
       "      <td>Friday</td>\n",
       "      <td>07:55</td>\n",
       "      <td>703</td>\n",
       "      <td>...</td>\n",
       "      <td>NaN</td>\n",
       "      <td>-1</td>\n",
       "      <td>NaN</td>\n",
       "      <td>None within 50 metres</td>\n",
       "      <td>No physical crossing facilities within 50 metres</td>\n",
       "      <td>Darkness - lights lit</td>\n",
       "      <td>Snowing + high winds</td>\n",
       "      <td>Snow</td>\n",
       "      <td>None</td>\n",
       "      <td>None</td>\n",
       "    </tr>\n",
       "    <tr>\n",
       "      <th>226716</th>\n",
       "      <td>NaN</td>\n",
       "      <td>NaN</td>\n",
       "      <td>Dyfed-Powys</td>\n",
       "      <td>Slight</td>\n",
       "      <td>2</td>\n",
       "      <td>2</td>\n",
       "      <td>05/12/1986</td>\n",
       "      <td>Friday</td>\n",
       "      <td>11:30</td>\n",
       "      <td>713</td>\n",
       "      <td>...</td>\n",
       "      <td>Give way or uncontrolled</td>\n",
       "      <td>Unclassified</td>\n",
       "      <td>first_road_class is C or Unclassified. These r...</td>\n",
       "      <td>None within 50 metres</td>\n",
       "      <td>No physical crossing facilities within 50 metres</td>\n",
       "      <td>Daylight</td>\n",
       "      <td>Raining no high winds</td>\n",
       "      <td>Wet or damp</td>\n",
       "      <td>None</td>\n",
       "      <td>None</td>\n",
       "    </tr>\n",
       "  </tbody>\n",
       "</table>\n",
       "<p>227 rows × 25 columns</p>\n",
       "</div>"
      ],
      "text/plain": [
       "        location_easting_osgr  location_northing_osgr       police_force  \\\n",
       "47120                     NaN                     NaN            Cumbria   \n",
       "47577                     NaN                     NaN            Cumbria   \n",
       "80989                     NaN                     NaN    North Yorkshire   \n",
       "80999                     NaN                     NaN    North Yorkshire   \n",
       "81215                     NaN                     NaN    North Yorkshire   \n",
       "...                       ...                     ...                ...   \n",
       "208596                    NaN                     NaN  Avon and Somerset   \n",
       "208855                    NaN                     NaN  Avon and Somerset   \n",
       "216182                    NaN                     NaN             Dorset   \n",
       "225338                    NaN                     NaN        South Wales   \n",
       "226716                    NaN                     NaN        Dyfed-Powys   \n",
       "\n",
       "       accident_severity  number_of_vehicles  number_of_casualties  \\\n",
       "47120             Slight                   2                     1   \n",
       "47577             Slight                   2                     1   \n",
       "80989             Slight                   1                     1   \n",
       "80999            Serious                   1                     1   \n",
       "81215            Serious                   2                     2   \n",
       "...                  ...                 ...                   ...   \n",
       "208596           Serious                   1                     1   \n",
       "208855           Serious                   2                     1   \n",
       "216182            Slight                   3                     1   \n",
       "225338            Slight                   1                     1   \n",
       "226716            Slight                   2                     2   \n",
       "\n",
       "              date day_of_week   time local_authority_district  ...  \\\n",
       "47120   13/02/1986    Thursday  12:02        Barrow-in-Furness  ...   \n",
       "47577   15/12/1986      Monday  16:45                 Copeland  ...   \n",
       "80989   05/01/1986      Sunday  16:00            Richmondshire  ...   \n",
       "80999   07/01/1986     Tuesday  12:30                Harrogate  ...   \n",
       "81215   08/02/1986    Saturday  17:49                    Selby  ...   \n",
       "...            ...         ...    ...                      ...  ...   \n",
       "208596  19/04/1986    Saturday  08:00                Sedgemoor  ...   \n",
       "208855  31/12/1986   Wednesday  13:00            Taunton Deane  ...   \n",
       "216182  29/04/1986     Tuesday  16:50              Bournemouth  ...   \n",
       "225338  24/01/1986      Friday  07:55                      703  ...   \n",
       "226716  05/12/1986      Friday  11:30                      713  ...   \n",
       "\n",
       "                junction_control second_road_class  \\\n",
       "47120                        NaN                -1   \n",
       "47577   Give way or uncontrolled      Unclassified   \n",
       "80989                        NaN                -1   \n",
       "80999                        NaN                -1   \n",
       "81215                  Stop sign      Unclassified   \n",
       "...                          ...               ...   \n",
       "208596                       NaN                -1   \n",
       "208855                       NaN                -1   \n",
       "216182  Give way or uncontrolled      Unclassified   \n",
       "225338                       NaN                -1   \n",
       "226716  Give way or uncontrolled      Unclassified   \n",
       "\n",
       "                                       second_road_number  \\\n",
       "47120                                                 NaN   \n",
       "47577   first_road_class is C or Unclassified. These r...   \n",
       "80989                                                 NaN   \n",
       "80999                                                 NaN   \n",
       "81215   first_road_class is C or Unclassified. These r...   \n",
       "...                                                   ...   \n",
       "208596                                                NaN   \n",
       "208855                                                NaN   \n",
       "216182  first_road_class is C or Unclassified. These r...   \n",
       "225338                                                NaN   \n",
       "226716  first_road_class is C or Unclassified. These r...   \n",
       "\n",
       "        pedestrian_crossing_human_control  \\\n",
       "47120              None within 50 metres    \n",
       "47577              None within 50 metres    \n",
       "80989              None within 50 metres    \n",
       "80999              None within 50 metres    \n",
       "81215              None within 50 metres    \n",
       "...                                   ...   \n",
       "208596             None within 50 metres    \n",
       "208855             None within 50 metres    \n",
       "216182             None within 50 metres    \n",
       "225338             None within 50 metres    \n",
       "226716             None within 50 metres    \n",
       "\n",
       "                 pedestrian_crossing_physical_facilities  \\\n",
       "47120   No physical crossing facilities within 50 metres   \n",
       "47577   No physical crossing facilities within 50 metres   \n",
       "80989   No physical crossing facilities within 50 metres   \n",
       "80999   No physical crossing facilities within 50 metres   \n",
       "81215   No physical crossing facilities within 50 metres   \n",
       "...                                                  ...   \n",
       "208596  No physical crossing facilities within 50 metres   \n",
       "208855  No physical crossing facilities within 50 metres   \n",
       "216182  No physical crossing facilities within 50 metres   \n",
       "225338  No physical crossing facilities within 50 metres   \n",
       "226716  No physical crossing facilities within 50 metres   \n",
       "\n",
       "              light_conditions     weather_conditions road_surface_conditions  \\\n",
       "47120                 Daylight     Fine no high winds                     Dry   \n",
       "47577   Darkness - no lighting      Fine + high winds                     Dry   \n",
       "80989                 Daylight  Snowing no high winds            Frost or ice   \n",
       "80999                 Daylight  Snowing no high winds            Frost or ice   \n",
       "81215   Darkness - no lighting     Fine no high winds             Wet or damp   \n",
       "...                        ...                    ...                     ...   \n",
       "208596                Daylight     Fine no high winds                     Dry   \n",
       "208855                Daylight     Fine no high winds             Wet or damp   \n",
       "216182                Daylight     Fine no high winds                     Dry   \n",
       "225338   Darkness - lights lit   Snowing + high winds                    Snow   \n",
       "226716                Daylight  Raining no high winds             Wet or damp   \n",
       "\n",
       "       special_conditions_at_site carriageway_hazards  \n",
       "47120                        None                None  \n",
       "47577                        None                None  \n",
       "80989                        None                None  \n",
       "80999                        None                None  \n",
       "81215                        None                None  \n",
       "...                           ...                 ...  \n",
       "208596                  Roadworks                None  \n",
       "208855                       None                None  \n",
       "216182                       None                None  \n",
       "225338                       None                None  \n",
       "226716                       None                None  \n",
       "\n",
       "[227 rows x 25 columns]"
      ]
     },
     "execution_count": 24,
     "metadata": {},
     "output_type": "execute_result"
    }
   ],
   "source": [
    "Cleandf[Cleandf['location_easting_osgr'].isnull() & Cleandf['location_northing_osgr'].isnull() ]"
   ]
  },
  {
   "cell_type": "markdown",
   "metadata": {},
   "source": [
    "It is observed that the whole coordinate (east and north) is missing for 227 accidents"
   ]
  },
  {
   "cell_type": "code",
   "execution_count": 25,
   "metadata": {},
   "outputs": [
    {
     "data": {
      "text/plain": [
       "(247651, 25)"
      ]
     },
     "execution_count": 25,
     "metadata": {},
     "output_type": "execute_result"
    }
   ],
   "source": [
    "Cleandf.dropna(axis='index', subset=['location_easting_osgr'],inplace=True)\n",
    "Cleandf.dropna(axis='index', subset=['location_northing_osgr'],inplace=True)\n",
    "Cleandf.shape "
   ]
  },
  {
   "cell_type": "code",
   "execution_count": 26,
   "metadata": {},
   "outputs": [
    {
     "data": {
      "text/plain": [
       "(247651, 24)"
      ]
     },
     "execution_count": 26,
     "metadata": {},
     "output_type": "execute_result"
    }
   ],
   "source": [
    "Cleandf = Cleandf.drop('second_road_number', axis=1)\n",
    "Cleandf.shape"
   ]
  },
  {
   "cell_type": "code",
   "execution_count": 27,
   "metadata": {},
   "outputs": [],
   "source": [
    "Cleandf = Cleandf.drop('first_road_number', axis=1)"
   ]
  },
  {
   "cell_type": "code",
   "execution_count": 28,
   "metadata": {},
   "outputs": [],
   "source": [
    "Cleandf = Cleandf.drop('second_road_class', axis=1)\n",
    "Cleandf = Cleandf.drop('first_road_class', axis=1)"
   ]
  },
  {
   "cell_type": "code",
   "execution_count": 29,
   "metadata": {},
   "outputs": [
    {
     "data": {
      "text/plain": [
       "(247651, 21)"
      ]
     },
     "execution_count": 29,
     "metadata": {},
     "output_type": "execute_result"
    }
   ],
   "source": [
    "Cleandf.shape"
   ]
  },
  {
   "cell_type": "markdown",
   "metadata": {},
   "source": [
    "Road Type missing values are only 0.35% from its total values so data is MCAR and we will apply CCA"
   ]
  },
  {
   "cell_type": "code",
   "execution_count": 30,
   "metadata": {},
   "outputs": [
    {
     "data": {
      "text/plain": [
       "(246782, 21)"
      ]
     },
     "execution_count": 30,
     "metadata": {},
     "output_type": "execute_result"
    }
   ],
   "source": [
    "Cleandf.dropna(axis='index', subset=['road_type'],inplace=True)\n",
    "Cleandf.shape #rows number decreased"
   ]
  },
  {
   "cell_type": "markdown",
   "metadata": {},
   "source": [
    "Junction detail missing values are only 0.001% from its total values so data is MCAR and we will apply CCA"
   ]
  },
  {
   "cell_type": "code",
   "execution_count": 31,
   "metadata": {},
   "outputs": [
    {
     "data": {
      "text/plain": [
       "(246778, 21)"
      ]
     },
     "execution_count": 31,
     "metadata": {},
     "output_type": "execute_result"
    }
   ],
   "source": [
    "Cleandf.dropna(axis='index', subset=['junction_detail'], inplace=True)\n",
    "Cleandf.shape #rows number decreased"
   ]
  },
  {
   "cell_type": "markdown",
   "metadata": {},
   "source": [
    "Since there are still null values in junction_control, we will apply CCA since the remaining null values are <5% of total values \n",
    "and that are only 68 records"
   ]
  },
  {
   "cell_type": "code",
   "execution_count": 32,
   "metadata": {},
   "outputs": [
    {
     "data": {
      "text/plain": [
       "(148413, 21)"
      ]
     },
     "execution_count": 32,
     "metadata": {},
     "output_type": "execute_result"
    }
   ],
   "source": [
    "Cleandf.dropna(axis='index', subset=['junction_control'],inplace=True)\n",
    "Cleandf.shape #rows number decreased"
   ]
  },
  {
   "cell_type": "markdown",
   "metadata": {},
   "source": [
    "Pedestrian_crossing_human_control missing values are only 0.001% from its total values so data is MCAR and we will apply CCA"
   ]
  },
  {
   "cell_type": "code",
   "execution_count": 33,
   "metadata": {},
   "outputs": [
    {
     "data": {
      "text/plain": [
       "(148411, 21)"
      ]
     },
     "execution_count": 33,
     "metadata": {},
     "output_type": "execute_result"
    }
   ],
   "source": [
    "Cleandf.dropna(axis='index', subset=['pedestrian_crossing_human_control'], inplace=True)\n",
    "Cleandf.shape #rows number decreased"
   ]
  },
  {
   "cell_type": "markdown",
   "metadata": {},
   "source": [
    "Pedestrian_crossing_physical_facilities missing values are only 0.001% from its total values so data is MCAR and we will apply CCA"
   ]
  },
  {
   "cell_type": "code",
   "execution_count": 34,
   "metadata": {},
   "outputs": [
    {
     "data": {
      "text/plain": [
       "(148411, 21)"
      ]
     },
     "execution_count": 34,
     "metadata": {},
     "output_type": "execute_result"
    }
   ],
   "source": [
    "Cleandf.dropna(axis='index', subset=['pedestrian_crossing_physical_facilities'], inplace=True)\n",
    "Cleandf.shape #rows number decreased\n"
   ]
  },
  {
   "cell_type": "markdown",
   "metadata": {},
   "source": [
    "light_conditions missing values are only 0.01% from its total values so data is MCAR and we will apply CCA"
   ]
  },
  {
   "cell_type": "code",
   "execution_count": 35,
   "metadata": {},
   "outputs": [
    {
     "data": {
      "text/plain": [
       "(148397, 21)"
      ]
     },
     "execution_count": 35,
     "metadata": {},
     "output_type": "execute_result"
    }
   ],
   "source": [
    "Cleandf.dropna(axis='index', subset=['light_conditions'], inplace=True)\n",
    "Cleandf.shape #rows number decreased"
   ]
  },
  {
   "cell_type": "markdown",
   "metadata": {},
   "source": [
    "weather_conditions missing values are only 0.89% from its total values so data is MCAR and we will apply CCA"
   ]
  },
  {
   "cell_type": "code",
   "execution_count": 36,
   "metadata": {},
   "outputs": [
    {
     "data": {
      "text/plain": [
       "(147121, 21)"
      ]
     },
     "execution_count": 36,
     "metadata": {},
     "output_type": "execute_result"
    }
   ],
   "source": [
    "Cleandf.dropna(axis='index', subset=['weather_conditions'], inplace=True)\n",
    "Cleandf.shape #rows number decreased"
   ]
  },
  {
   "cell_type": "markdown",
   "metadata": {},
   "source": [
    "road_surface_conditions missing values are only 0.02% from its total values so data is MCAR and we will apply CCA"
   ]
  },
  {
   "cell_type": "code",
   "execution_count": 37,
   "metadata": {},
   "outputs": [
    {
     "data": {
      "text/plain": [
       "(147113, 21)"
      ]
     },
     "execution_count": 37,
     "metadata": {},
     "output_type": "execute_result"
    }
   ],
   "source": [
    "Cleandf.dropna(axis='index', subset=['road_surface_conditions'], inplace=True)\n",
    "Cleandf.shape #rows number decreased"
   ]
  },
  {
   "cell_type": "markdown",
   "metadata": {},
   "source": [
    "special_conditions_at_site missing values are only 0.0008% from its total values so data is MCAR and we will apply CCA"
   ]
  },
  {
   "cell_type": "code",
   "execution_count": 38,
   "metadata": {},
   "outputs": [
    {
     "data": {
      "text/plain": [
       "(147111, 21)"
      ]
     },
     "execution_count": 38,
     "metadata": {},
     "output_type": "execute_result"
    }
   ],
   "source": [
    "Cleandf.dropna(axis='index', subset=['special_conditions_at_site'], inplace=True)\n",
    "Cleandf.shape #rows number decreased"
   ]
  },
  {
   "cell_type": "markdown",
   "metadata": {},
   "source": [
    "carriageway_hazards missing values are only 0.01% from its total values so data is MCAR and we will apply CCA"
   ]
  },
  {
   "cell_type": "code",
   "execution_count": 39,
   "metadata": {},
   "outputs": [
    {
     "data": {
      "text/plain": [
       "(147093, 21)"
      ]
     },
     "execution_count": 39,
     "metadata": {},
     "output_type": "execute_result"
    }
   ],
   "source": [
    "Cleandf.dropna(axis='index', subset=['carriageway_hazards'], inplace=True)\n",
    "Cleandf.shape #rows number decreased\n"
   ]
  },
  {
   "cell_type": "markdown",
   "metadata": {},
   "source": [
    "After we are done with cleaning, checking if there are still null values"
   ]
  },
  {
   "cell_type": "code",
   "execution_count": 40,
   "metadata": {},
   "outputs": [
    {
     "data": {
      "text/plain": [
       "location_easting_osgr                      0\n",
       "location_northing_osgr                     0\n",
       "police_force                               0\n",
       "accident_severity                          0\n",
       "number_of_vehicles                         0\n",
       "number_of_casualties                       0\n",
       "date                                       0\n",
       "day_of_week                                0\n",
       "time                                       0\n",
       "local_authority_district                   0\n",
       "road_type                                  0\n",
       "speed_limit                                0\n",
       "junction_detail                            0\n",
       "junction_control                           0\n",
       "pedestrian_crossing_human_control          0\n",
       "pedestrian_crossing_physical_facilities    0\n",
       "light_conditions                           0\n",
       "weather_conditions                         0\n",
       "road_surface_conditions                    0\n",
       "special_conditions_at_site                 0\n",
       "carriageway_hazards                        0\n",
       "dtype: int64"
      ]
     },
     "execution_count": 40,
     "metadata": {},
     "output_type": "execute_result"
    }
   ],
   "source": [
    "Cleandf.isnull().sum() "
   ]
  },
  {
   "cell_type": "markdown",
   "metadata": {},
   "source": [
    "No more null values"
   ]
  },
  {
   "cell_type": "markdown",
   "metadata": {},
   "source": [
    "We believe that some columns will not be beneficial or won't help the model in learning, so will remove them, as more features can increase the risk of overfitting and will make the model more complex."
   ]
  },
  {
   "cell_type": "code",
   "execution_count": 41,
   "metadata": {},
   "outputs": [],
   "source": [
    "Cleandf=Cleandf.drop([\"police_force\",\"local_authority_district\",\"location_easting_osgr\",\"location_northing_osgr\",\"date\"],axis=1)"
   ]
  },
  {
   "cell_type": "markdown",
   "metadata": {},
   "source": [
    "# ------------------------------------------------------------------------------------------------------------"
   ]
  },
  {
   "cell_type": "markdown",
   "metadata": {},
   "source": [
    "## Observing outliers"
   ]
  },
  {
   "cell_type": "markdown",
   "metadata": {},
   "source": [
    "We will observe outliers for numerical variables"
   ]
  },
  {
   "cell_type": "code",
   "execution_count": 42,
   "metadata": {},
   "outputs": [],
   "source": [
    "CleandfOutliers=Cleandf.copy()"
   ]
  },
  {
   "cell_type": "code",
   "execution_count": 43,
   "metadata": {},
   "outputs": [],
   "source": [
    "numericFrame = CleandfOutliers.select_dtypes('number')"
   ]
  },
  {
   "cell_type": "code",
   "execution_count": 44,
   "metadata": {},
   "outputs": [
    {
     "data": {
      "text/plain": [
       "Index(['number_of_vehicles', 'number_of_casualties', 'speed_limit'], dtype='object')"
      ]
     },
     "execution_count": 44,
     "metadata": {},
     "output_type": "execute_result"
    }
   ],
   "source": [
    "numericFrame.columns"
   ]
  },
  {
   "cell_type": "markdown",
   "metadata": {},
   "source": [
    "We will start by getting number of vehicles outliers, will check the skewness first"
   ]
  },
  {
   "cell_type": "code",
   "execution_count": 45,
   "metadata": {},
   "outputs": [
    {
     "data": {
      "text/plain": [
       "0.8364564849665315"
      ]
     },
     "execution_count": 45,
     "metadata": {},
     "output_type": "execute_result"
    }
   ],
   "source": [
    "CleandfOutliers.number_of_vehicles.skew()"
   ]
  },
  {
   "cell_type": "code",
   "execution_count": 46,
   "metadata": {},
   "outputs": [
    {
     "data": {
      "text/plain": [
       "2     89628\n",
       "1     46678\n",
       "3      9072\n",
       "4      1359\n",
       "5       259\n",
       "6        73\n",
       "7        19\n",
       "8         3\n",
       "10        1\n",
       "9         1\n",
       "Name: number_of_vehicles, dtype: int64"
      ]
     },
     "execution_count": 46,
     "metadata": {},
     "output_type": "execute_result"
    }
   ],
   "source": [
    "class_counts = CleandfOutliers['number_of_vehicles'].value_counts()\n",
    "class_counts"
   ]
  },
  {
   "cell_type": "markdown",
   "metadata": {},
   "source": [
    "The skewness is not in range -1 to 1 so it is skewed and indicates the presence of outliers"
   ]
  },
  {
   "cell_type": "markdown",
   "metadata": {},
   "source": [
    "We will then get the distribution and box plot of number of vehicles"
   ]
  },
  {
   "cell_type": "code",
   "execution_count": 47,
   "metadata": {},
   "outputs": [
    {
     "data": {
      "text/plain": [
       "<AxesSubplot:xlabel='number_of_vehicles', ylabel='Density'>"
      ]
     },
     "execution_count": 47,
     "metadata": {},
     "output_type": "execute_result"
    },
    {
     "data": {
      "image/png": "[encoded data removed]",
      "text/plain": [
       "<Figure size 432x288 with 1 Axes>"
      ]
     },
     "metadata": {
      "needs_background": "light"
     },
     "output_type": "display_data"
    }
   ],
   "source": [
    "sns.kdeplot(CleandfOutliers['number_of_vehicles'])"
   ]
  },
  {
   "cell_type": "code",
   "execution_count": 48,
   "metadata": {},
   "outputs": [
    {
     "data": {
      "image/png": "[encoded data removed]",
      "text/plain": [
       "<Figure size 432x288 with 1 Axes>"
      ]
     },
     "metadata": {
      "needs_background": "light"
     },
     "output_type": "display_data"
    }
   ],
   "source": [
    "plt.boxplot(CleandfOutliers.number_of_vehicles)\n",
    "plt.show()"
   ]
  },
  {
   "cell_type": "markdown",
   "metadata": {},
   "source": [
    "The plots indicate a lot of outliers"
   ]
  },
  {
   "cell_type": "markdown",
   "metadata": {},
   "source": [
    "We will then check the number of outliers using IQR method"
   ]
  },
  {
   "cell_type": "code",
   "execution_count": 49,
   "metadata": {},
   "outputs": [
    {
     "name": "stdout",
     "output_type": "stream",
     "text": [
      "1.0\n"
     ]
    }
   ],
   "source": [
    "VehiclesQ1 = CleandfOutliers.number_of_vehicles.quantile(0.25)\n",
    "VehiclesQ3 = CleandfOutliers.number_of_vehicles.quantile(0.75)\n",
    "VehiclesIQR = VehiclesQ3 - VehiclesQ1\n",
    "print(VehiclesIQR)"
   ]
  },
  {
   "cell_type": "code",
   "execution_count": 50,
   "metadata": {},
   "outputs": [
    {
     "name": "stdout",
     "output_type": "stream",
     "text": [
      "-2.0 5.0\n"
     ]
    }
   ],
   "source": [
    "Vehiclescut_off = VehiclesIQR * 3 #we want to detect only extreme outliers bec. very severe accidents can have ubnormal number of vehicles so we don't want to exclude them\n",
    "Vehicleslower = VehiclesQ1 - Vehiclescut_off\n",
    "Vehiclesupper =  VehiclesQ3 + Vehiclescut_off\n",
    "print(Vehicleslower,Vehiclesupper)"
   ]
  },
  {
   "cell_type": "code",
   "execution_count": 51,
   "metadata": {},
   "outputs": [
    {
     "name": "stdout",
     "output_type": "stream",
     "text": [
      "Total number of number of vehicles outliers are 97\n"
     ]
    }
   ],
   "source": [
    "Vehiclesdf1 = CleandfOutliers[CleandfOutliers['number_of_vehicles']> Vehiclesupper]\n",
    "Vehiclesdf2 = CleandfOutliers[CleandfOutliers['number_of_vehicles'] < Vehicleslower]\n",
    "print('Total number of number of vehicles outliers are', Vehiclesdf1.shape[0]+ Vehiclesdf2.shape[0])"
   ]
  },
  {
   "cell_type": "markdown",
   "metadata": {},
   "source": [
    "We will then get number of casualties outliers, will check the skewness first"
   ]
  },
  {
   "cell_type": "code",
   "execution_count": 52,
   "metadata": {},
   "outputs": [
    {
     "data": {
      "text/plain": [
       "5.782903523166145"
      ]
     },
     "execution_count": 52,
     "metadata": {},
     "output_type": "execute_result"
    }
   ],
   "source": [
    "CleandfOutliers.number_of_casualties.skew()"
   ]
  },
  {
   "cell_type": "code",
   "execution_count": 53,
   "metadata": {},
   "outputs": [
    {
     "data": {
      "text/plain": [
       "1     121166\n",
       "2      18711\n",
       "3       4506\n",
       "4       1698\n",
       "5        587\n",
       "6        262\n",
       "7         94\n",
       "8         34\n",
       "9         11\n",
       "10         8\n",
       "11         5\n",
       "14         3\n",
       "33         2\n",
       "13         1\n",
       "19         1\n",
       "28         1\n",
       "23         1\n",
       "12         1\n",
       "16         1\n",
       "Name: number_of_casualties, dtype: int64"
      ]
     },
     "execution_count": 53,
     "metadata": {},
     "output_type": "execute_result"
    }
   ],
   "source": [
    "class_countsC = CleandfOutliers['number_of_casualties'].value_counts()\n",
    "class_countsC"
   ]
  },
  {
   "cell_type": "markdown",
   "metadata": {},
   "source": [
    "The skewness is not in range -1 to 1 so it is skewed and indicates the presence of outliers"
   ]
  },
  {
   "cell_type": "markdown",
   "metadata": {},
   "source": [
    "We will then get the distribution and box plot of number of casualties"
   ]
  },
  {
   "cell_type": "code",
   "execution_count": 54,
   "metadata": {},
   "outputs": [
    {
     "data": {
      "text/plain": [
       "<AxesSubplot:xlabel='number_of_casualties', ylabel='Density'>"
      ]
     },
     "execution_count": 54,
     "metadata": {},
     "output_type": "execute_result"
    },
    {
     "data": {
      "image/png": "[encoded data removed]",
      "text/plain": [
       "<Figure size 432x288 with 1 Axes>"
      ]
     },
     "metadata": {
      "needs_background": "light"
     },
     "output_type": "display_data"
    }
   ],
   "source": [
    "sns.kdeplot(CleandfOutliers['number_of_casualties'])"
   ]
  },
  {
   "cell_type": "code",
   "execution_count": 55,
   "metadata": {},
   "outputs": [
    {
     "data": {
      "image/png": "[encoded data removed]",
      "text/plain": [
       "<Figure size 432x288 with 1 Axes>"
      ]
     },
     "metadata": {
      "needs_background": "light"
     },
     "output_type": "display_data"
    }
   ],
   "source": [
    "plt.boxplot(CleandfOutliers.number_of_casualties)\n",
    "plt.show()"
   ]
  },
  {
   "cell_type": "markdown",
   "metadata": {},
   "source": [
    "The plots indicate a lot of outliers, will use Z-Score method to detect outliers"
   ]
  },
  {
   "cell_type": "code",
   "execution_count": 56,
   "metadata": {},
   "outputs": [
    {
     "data": {
      "text/plain": [
       "True     144383\n",
       "False      2710\n",
       "Name: number_of_casualties, dtype: int64"
      ]
     },
     "execution_count": 56,
     "metadata": {},
     "output_type": "execute_result"
    },
    {
     "data": {
      "image/png": "[encoded data removed]",
      "text/plain": [
       "<Figure size 432x288 with 1 Axes>"
      ]
     },
     "metadata": {
      "needs_background": "light"
     },
     "output_type": "display_data"
    }
   ],
   "source": [
    "sns.kdeplot(CleandfOutliers[\"number_of_casualties\"])\n",
    "z = np.abs(stats.zscore(CleandfOutliers['number_of_casualties']))\n",
    "filtered_entries = z < 3\n",
    "filtered_entries.value_counts()"
   ]
  },
  {
   "cell_type": "markdown",
   "metadata": {},
   "source": [
    "We will then get number of speed limit outliers, will check the skewness first"
   ]
  },
  {
   "cell_type": "code",
   "execution_count": 57,
   "metadata": {},
   "outputs": [
    {
     "data": {
      "text/plain": [
       "1.975079395219084"
      ]
     },
     "execution_count": 57,
     "metadata": {},
     "output_type": "execute_result"
    }
   ],
   "source": [
    "CleandfOutliers.speed_limit.skew()"
   ]
  },
  {
   "cell_type": "code",
   "execution_count": 58,
   "metadata": {},
   "outputs": [
    {
     "data": {
      "text/plain": [
       "30.0    114951\n",
       "60.0     15775\n",
       "40.0     11554\n",
       "70.0      3614\n",
       "50.0      1134\n",
       "10.0        20\n",
       "20.0        15\n",
       "0.0          7\n",
       "15.0         6\n",
       "36.0         5\n",
       "25.0         2\n",
       "17.0         1\n",
       "45.0         1\n",
       "51.0         1\n",
       "32.0         1\n",
       "31.0         1\n",
       "22.0         1\n",
       "61.0         1\n",
       "33.0         1\n",
       "64.0         1\n",
       "38.0         1\n",
       "Name: speed_limit, dtype: int64"
      ]
     },
     "execution_count": 58,
     "metadata": {},
     "output_type": "execute_result"
    }
   ],
   "source": [
    "class_countsS = CleandfOutliers['speed_limit'].value_counts()\n",
    "class_countsS"
   ]
  },
  {
   "cell_type": "markdown",
   "metadata": {},
   "source": [
    "The skewness is not in range -1 to 1 so it is skewed and indicates the presence of outliers but it's close to the range\n"
   ]
  },
  {
   "cell_type": "markdown",
   "metadata": {},
   "source": [
    "\n",
    "We will then get the distribution and box plot of speed limit\n"
   ]
  },
  {
   "cell_type": "code",
   "execution_count": 59,
   "metadata": {},
   "outputs": [
    {
     "data": {
      "text/plain": [
       "<AxesSubplot:xlabel='speed_limit', ylabel='Density'>"
      ]
     },
     "execution_count": 59,
     "metadata": {},
     "output_type": "execute_result"
    },
    {
     "data": {
      "image/png": "[encoded data removed]",
      "text/plain": [
       "<Figure size 432x288 with 1 Axes>"
      ]
     },
     "metadata": {
      "needs_background": "light"
     },
     "output_type": "display_data"
    }
   ],
   "source": [
    "sns.kdeplot(CleandfOutliers['speed_limit'])"
   ]
  },
  {
   "cell_type": "code",
   "execution_count": 60,
   "metadata": {},
   "outputs": [
    {
     "data": {
      "image/png": "[encoded data removed]",
      "text/plain": [
       "<Figure size 432x288 with 1 Axes>"
      ]
     },
     "metadata": {
      "needs_background": "light"
     },
     "output_type": "display_data"
    }
   ],
   "source": [
    "plt.boxplot(CleandfOutliers.speed_limit)\n",
    "plt.show()"
   ]
  },
  {
   "cell_type": "markdown",
   "metadata": {},
   "source": [
    "The plots indicate a lot of outliers"
   ]
  },
  {
   "cell_type": "markdown",
   "metadata": {},
   "source": [
    "We will detect outliers of speed limit by inspection"
   ]
  },
  {
   "cell_type": "markdown",
   "metadata": {},
   "source": [
    "# ------------------------------------------------------------------------------------------------------------"
   ]
  },
  {
   "cell_type": "markdown",
   "metadata": {},
   "source": [
    "## Handling outliers"
   ]
  },
  {
   "cell_type": "markdown",
   "metadata": {},
   "source": [
    "We will remove number of vehicles outliers from the dataset"
   ]
  },
  {
   "cell_type": "code",
   "execution_count": 61,
   "metadata": {},
   "outputs": [
    {
     "name": "stdout",
     "output_type": "stream",
     "text": [
      "Number of entries before removing outliers = 147093\n",
      "Number of entries after removing outliers = 146737\n"
     ]
    },
    {
     "data": {
      "text/plain": [
       "2    89628\n",
       "1    46678\n",
       "3     9072\n",
       "4     1359\n",
       "Name: number_of_vehicles, dtype: int64"
      ]
     },
     "execution_count": 61,
     "metadata": {},
     "output_type": "execute_result"
    }
   ],
   "source": [
    "print(f'Number of entries before removing outliers = {CleandfOutliers.shape[0]}')\n",
    "CleandfOutliers = CleandfOutliers[(CleandfOutliers['number_of_vehicles'] < Vehiclesupper) & (CleandfOutliers['number_of_vehicles'] > Vehicleslower)]\n",
    "print(f'Number of entries after removing outliers = {CleandfOutliers.shape[0]}')\n",
    "CleandfOutliers.number_of_vehicles.value_counts()"
   ]
  },
  {
   "cell_type": "markdown",
   "metadata": {},
   "source": [
    "We will remove number of casualties outliers from the dataset"
   ]
  },
  {
   "cell_type": "code",
   "execution_count": 62,
   "metadata": {},
   "outputs": [
    {
     "name": "stdout",
     "output_type": "stream",
     "text": [
      "Number of entries before removing outliers = 146737\n",
      "Number of entries after removing outliers = 144063\n"
     ]
    },
    {
     "name": "stderr",
     "output_type": "stream",
     "text": [
      "C:\\Users\\DELL\\AppData\\Local\\Temp\\ipykernel_1516\\2996822462.py:2: UserWarning: Boolean Series key will be reindexed to match DataFrame index.\n",
      "  CleandfOutliers = CleandfOutliers[filtered_entries]\n"
     ]
    },
    {
     "data": {
      "text/plain": [
       "1    120977\n",
       "2     18624\n",
       "3      4462\n",
       "Name: number_of_casualties, dtype: int64"
      ]
     },
     "execution_count": 62,
     "metadata": {},
     "output_type": "execute_result"
    }
   ],
   "source": [
    "print(f'Number of entries before removing outliers = {CleandfOutliers.shape[0]}')\n",
    "CleandfOutliers = CleandfOutliers[filtered_entries]\n",
    "print(f'Number of entries after removing outliers = {CleandfOutliers.shape[0]}')\n",
    "CleandfOutliers.number_of_casualties.value_counts()"
   ]
  },
  {
   "cell_type": "markdown",
   "metadata": {},
   "source": [
    "Will remove speed limit outliers"
   ]
  },
  {
   "cell_type": "code",
   "execution_count": 63,
   "metadata": {},
   "outputs": [
    {
     "name": "stdout",
     "output_type": "stream",
     "text": [
      "Number of entries before removing outliers = 144063\n",
      "Number of entries after removing outliers = 143998\n"
     ]
    }
   ],
   "source": [
    "values_to_remove = [10.0, 20.0, 15.0,0.0,36.0,25.0,17.0,16.0,45.0,51.0,32.0,31.0,22.0,61.0,33.0,64.0,66.0,65.0,38.0,35.0] \n",
    "print(f'Number of entries before removing outliers = {CleandfOutliers.shape[0]}')\n",
    "CleandfOutliers =CleandfOutliers[~CleandfOutliers['speed_limit'].isin(values_to_remove)]\n",
    "print(f'Number of entries after removing outliers = {CleandfOutliers.shape[0]}')"
   ]
  },
  {
   "cell_type": "markdown",
   "metadata": {},
   "source": [
    "We will check the removal of outliers by getting the unique values and their counts"
   ]
  },
  {
   "cell_type": "code",
   "execution_count": 64,
   "metadata": {},
   "outputs": [
    {
     "data": {
      "text/plain": [
       "30.0    113364\n",
       "60.0     14936\n",
       "40.0     11209\n",
       "70.0      3400\n",
       "50.0      1089\n",
       "Name: speed_limit, dtype: int64"
      ]
     },
     "execution_count": 64,
     "metadata": {},
     "output_type": "execute_result"
    }
   ],
   "source": [
    "CleandfOutliers.speed_limit.value_counts()"
   ]
  },
  {
   "cell_type": "markdown",
   "metadata": {},
   "source": [
    "# --------------------------------------------------------------------------------------------------------------"
   ]
  },
  {
   "cell_type": "markdown",
   "metadata": {},
   "source": [
    "## Encoding"
   ]
  },
  {
   "cell_type": "markdown",
   "metadata": {},
   "source": [
    "Will create a copy of dataset after handling outliers for the encoding part"
   ]
  },
  {
   "cell_type": "code",
   "execution_count": 65,
   "metadata": {},
   "outputs": [],
   "source": [
    "CleandfEnc=CleandfOutliers.copy()"
   ]
  },
  {
   "cell_type": "code",
   "execution_count": 66,
   "metadata": {},
   "outputs": [
    {
     "data": {
      "text/plain": [
       "(143998, 3)"
      ]
     },
     "execution_count": 66,
     "metadata": {},
     "output_type": "execute_result"
    }
   ],
   "source": [
    "numericFrame2 = CleandfEnc.select_dtypes('number')\n",
    "numericFrame2.shape"
   ]
  },
  {
   "cell_type": "code",
   "execution_count": 67,
   "metadata": {},
   "outputs": [],
   "source": [
    "YLabelEncoding=CleandfEnc['accident_severity']"
   ]
  },
  {
   "cell_type": "code",
   "execution_count": 68,
   "metadata": {},
   "outputs": [
    {
     "name": "stdout",
     "output_type": "stream",
     "text": [
      "<class 'pandas.core.frame.DataFrame'>\n",
      "Int64Index: 143998 entries, 0 to 247875\n",
      "Data columns (total 16 columns):\n",
      " #   Column                                   Non-Null Count   Dtype  \n",
      "---  ------                                   --------------   -----  \n",
      " 0   accident_severity                        143998 non-null  object \n",
      " 1   number_of_vehicles                       143998 non-null  int64  \n",
      " 2   number_of_casualties                     143998 non-null  int64  \n",
      " 3   day_of_week                              143998 non-null  object \n",
      " 4   time                                     143998 non-null  object \n",
      " 5   road_type                                143998 non-null  object \n",
      " 6   speed_limit                              143998 non-null  float64\n",
      " 7   junction_detail                          143998 non-null  object \n",
      " 8   junction_control                         143998 non-null  object \n",
      " 9   pedestrian_crossing_human_control        143998 non-null  object \n",
      " 10  pedestrian_crossing_physical_facilities  143998 non-null  object \n",
      " 11  light_conditions                         143998 non-null  object \n",
      " 12  weather_conditions                       143998 non-null  object \n",
      " 13  road_surface_conditions                  143998 non-null  object \n",
      " 14  special_conditions_at_site               143998 non-null  object \n",
      " 15  carriageway_hazards                      143998 non-null  object \n",
      "dtypes: float64(1), int64(2), object(13)\n",
      "memory usage: 18.7+ MB\n"
     ]
    }
   ],
   "source": [
    "CleandfEnc.info() #we will encode the categorical features with datatype object"
   ]
  },
  {
   "cell_type": "code",
   "execution_count": 69,
   "metadata": {},
   "outputs": [
    {
     "data": {
      "text/html": [
       "<div>\n",
       "<style scoped>\n",
       "    .dataframe tbody tr th:only-of-type {\n",
       "        vertical-align: middle;\n",
       "    }\n",
       "\n",
       "    .dataframe tbody tr th {\n",
       "        vertical-align: top;\n",
       "    }\n",
       "\n",
       "    .dataframe thead th {\n",
       "        text-align: right;\n",
       "    }\n",
       "</style>\n",
       "<table border=\"1\" class=\"dataframe\">\n",
       "  <thead>\n",
       "    <tr style=\"text-align: right;\">\n",
       "      <th></th>\n",
       "      <th>accident_severity</th>\n",
       "      <th>day_of_week</th>\n",
       "      <th>time</th>\n",
       "      <th>road_type</th>\n",
       "      <th>junction_detail</th>\n",
       "      <th>junction_control</th>\n",
       "      <th>pedestrian_crossing_human_control</th>\n",
       "      <th>pedestrian_crossing_physical_facilities</th>\n",
       "      <th>light_conditions</th>\n",
       "      <th>weather_conditions</th>\n",
       "      <th>road_surface_conditions</th>\n",
       "      <th>special_conditions_at_site</th>\n",
       "      <th>carriageway_hazards</th>\n",
       "    </tr>\n",
       "  </thead>\n",
       "  <tbody>\n",
       "    <tr>\n",
       "      <th>0</th>\n",
       "      <td>Serious</td>\n",
       "      <td>Friday</td>\n",
       "      <td>01:35</td>\n",
       "      <td>One way street/Slip road</td>\n",
       "      <td>Other junction</td>\n",
       "      <td>Give way or uncontrolled</td>\n",
       "      <td>None within 50 metres</td>\n",
       "      <td>Pelican, puffin, toucan or similar non-junctio...</td>\n",
       "      <td>Darkness - lights lit</td>\n",
       "      <td>Raining no high winds</td>\n",
       "      <td>Wet or damp</td>\n",
       "      <td>None</td>\n",
       "      <td>None</td>\n",
       "    </tr>\n",
       "    <tr>\n",
       "      <th>1</th>\n",
       "      <td>Slight</td>\n",
       "      <td>Friday</td>\n",
       "      <td>08:15</td>\n",
       "      <td>Dual carriageway</td>\n",
       "      <td>Crossroads</td>\n",
       "      <td>Give way or uncontrolled</td>\n",
       "      <td>None within 50 metres</td>\n",
       "      <td>Pelican, puffin, toucan or similar non-junctio...</td>\n",
       "      <td>Daylight</td>\n",
       "      <td>Raining no high winds</td>\n",
       "      <td>Wet or damp</td>\n",
       "      <td>None</td>\n",
       "      <td>None</td>\n",
       "    </tr>\n",
       "    <tr>\n",
       "      <th>2</th>\n",
       "      <td>Serious</td>\n",
       "      <td>Saturday</td>\n",
       "      <td>22:40</td>\n",
       "      <td>One way street/Slip road</td>\n",
       "      <td>Other junction</td>\n",
       "      <td>Give way or uncontrolled</td>\n",
       "      <td>None within 50 metres</td>\n",
       "      <td>Pelican, puffin, toucan or similar non-junctio...</td>\n",
       "      <td>Darkness - lights lit</td>\n",
       "      <td>Fine no high winds</td>\n",
       "      <td>Dry</td>\n",
       "      <td>None</td>\n",
       "      <td>None</td>\n",
       "    </tr>\n",
       "    <tr>\n",
       "      <th>4</th>\n",
       "      <td>Slight</td>\n",
       "      <td>Tuesday</td>\n",
       "      <td>23:35</td>\n",
       "      <td>One way street/Slip road</td>\n",
       "      <td>T or staggered junction</td>\n",
       "      <td>Give way or uncontrolled</td>\n",
       "      <td>None within 50 metres</td>\n",
       "      <td>Pedestrian phase at traffic signal junction</td>\n",
       "      <td>Darkness - lights lit</td>\n",
       "      <td>Fine + high winds</td>\n",
       "      <td>Dry</td>\n",
       "      <td>None</td>\n",
       "      <td>None</td>\n",
       "    </tr>\n",
       "    <tr>\n",
       "      <th>5</th>\n",
       "      <td>Slight</td>\n",
       "      <td>Wednesday</td>\n",
       "      <td>11:55</td>\n",
       "      <td>One way street/Slip road</td>\n",
       "      <td>T or staggered junction</td>\n",
       "      <td>Give way or uncontrolled</td>\n",
       "      <td>None within 50 metres</td>\n",
       "      <td>Zebra</td>\n",
       "      <td>Daylight</td>\n",
       "      <td>Raining no high winds</td>\n",
       "      <td>Wet or damp</td>\n",
       "      <td>None</td>\n",
       "      <td>None</td>\n",
       "    </tr>\n",
       "    <tr>\n",
       "      <th>...</th>\n",
       "      <td>...</td>\n",
       "      <td>...</td>\n",
       "      <td>...</td>\n",
       "      <td>...</td>\n",
       "      <td>...</td>\n",
       "      <td>...</td>\n",
       "      <td>...</td>\n",
       "      <td>...</td>\n",
       "      <td>...</td>\n",
       "      <td>...</td>\n",
       "      <td>...</td>\n",
       "      <td>...</td>\n",
       "      <td>...</td>\n",
       "    </tr>\n",
       "    <tr>\n",
       "      <th>247869</th>\n",
       "      <td>Slight</td>\n",
       "      <td>Thursday</td>\n",
       "      <td>16:10</td>\n",
       "      <td>One way street/Slip road</td>\n",
       "      <td>Slip road</td>\n",
       "      <td>Give way or uncontrolled</td>\n",
       "      <td>None within 50 metres</td>\n",
       "      <td>Pelican, puffin, toucan or similar non-junctio...</td>\n",
       "      <td>Daylight</td>\n",
       "      <td>Other</td>\n",
       "      <td>Wet or damp</td>\n",
       "      <td>None</td>\n",
       "      <td>None</td>\n",
       "    </tr>\n",
       "    <tr>\n",
       "      <th>247870</th>\n",
       "      <td>Slight</td>\n",
       "      <td>Wednesday</td>\n",
       "      <td>15:30</td>\n",
       "      <td>Single carriageway</td>\n",
       "      <td>Crossroads</td>\n",
       "      <td>Give way or uncontrolled</td>\n",
       "      <td>None within 50 metres</td>\n",
       "      <td>No physical crossing facilities within 50 metres</td>\n",
       "      <td>Daylight</td>\n",
       "      <td>Fine no high winds</td>\n",
       "      <td>Wet or damp</td>\n",
       "      <td>None</td>\n",
       "      <td>None</td>\n",
       "    </tr>\n",
       "    <tr>\n",
       "      <th>247873</th>\n",
       "      <td>Slight</td>\n",
       "      <td>Friday</td>\n",
       "      <td>02:00</td>\n",
       "      <td>Single carriageway</td>\n",
       "      <td>T or staggered junction</td>\n",
       "      <td>Give way or uncontrolled</td>\n",
       "      <td>None within 50 metres</td>\n",
       "      <td>Pedestrian phase at traffic signal junction</td>\n",
       "      <td>Darkness - lights lit</td>\n",
       "      <td>Fine no high winds</td>\n",
       "      <td>Dry</td>\n",
       "      <td>None</td>\n",
       "      <td>None</td>\n",
       "    </tr>\n",
       "    <tr>\n",
       "      <th>247874</th>\n",
       "      <td>Slight</td>\n",
       "      <td>Tuesday</td>\n",
       "      <td>21:30</td>\n",
       "      <td>Roundabout</td>\n",
       "      <td>Roundabout</td>\n",
       "      <td>Give way or uncontrolled</td>\n",
       "      <td>None within 50 metres</td>\n",
       "      <td>Central refuge</td>\n",
       "      <td>Darkness - lights lit</td>\n",
       "      <td>Raining no high winds</td>\n",
       "      <td>Wet or damp</td>\n",
       "      <td>None</td>\n",
       "      <td>None</td>\n",
       "    </tr>\n",
       "    <tr>\n",
       "      <th>247875</th>\n",
       "      <td>Serious</td>\n",
       "      <td>Friday</td>\n",
       "      <td>22:00</td>\n",
       "      <td>Single carriageway</td>\n",
       "      <td>T or staggered junction</td>\n",
       "      <td>Give way or uncontrolled</td>\n",
       "      <td>None within 50 metres</td>\n",
       "      <td>No physical crossing facilities within 50 metres</td>\n",
       "      <td>Darkness - lights lit</td>\n",
       "      <td>Fine no high winds</td>\n",
       "      <td>Dry</td>\n",
       "      <td>None</td>\n",
       "      <td>None</td>\n",
       "    </tr>\n",
       "  </tbody>\n",
       "</table>\n",
       "<p>143998 rows × 13 columns</p>\n",
       "</div>"
      ],
      "text/plain": [
       "       accident_severity day_of_week   time                 road_type  \\\n",
       "0                Serious      Friday  01:35  One way street/Slip road   \n",
       "1                 Slight      Friday  08:15          Dual carriageway   \n",
       "2                Serious    Saturday  22:40  One way street/Slip road   \n",
       "4                 Slight     Tuesday  23:35  One way street/Slip road   \n",
       "5                 Slight   Wednesday  11:55  One way street/Slip road   \n",
       "...                  ...         ...    ...                       ...   \n",
       "247869            Slight    Thursday  16:10  One way street/Slip road   \n",
       "247870            Slight   Wednesday  15:30        Single carriageway   \n",
       "247873            Slight      Friday  02:00        Single carriageway   \n",
       "247874            Slight     Tuesday  21:30                Roundabout   \n",
       "247875           Serious      Friday  22:00        Single carriageway   \n",
       "\n",
       "                junction_detail          junction_control  \\\n",
       "0                Other junction  Give way or uncontrolled   \n",
       "1                    Crossroads  Give way or uncontrolled   \n",
       "2                Other junction  Give way or uncontrolled   \n",
       "4       T or staggered junction  Give way or uncontrolled   \n",
       "5       T or staggered junction  Give way or uncontrolled   \n",
       "...                         ...                       ...   \n",
       "247869                Slip road  Give way or uncontrolled   \n",
       "247870               Crossroads  Give way or uncontrolled   \n",
       "247873  T or staggered junction  Give way or uncontrolled   \n",
       "247874               Roundabout  Give way or uncontrolled   \n",
       "247875  T or staggered junction  Give way or uncontrolled   \n",
       "\n",
       "       pedestrian_crossing_human_control  \\\n",
       "0                 None within 50 metres    \n",
       "1                 None within 50 metres    \n",
       "2                 None within 50 metres    \n",
       "4                 None within 50 metres    \n",
       "5                 None within 50 metres    \n",
       "...                                  ...   \n",
       "247869            None within 50 metres    \n",
       "247870            None within 50 metres    \n",
       "247873            None within 50 metres    \n",
       "247874            None within 50 metres    \n",
       "247875            None within 50 metres    \n",
       "\n",
       "                  pedestrian_crossing_physical_facilities  \\\n",
       "0       Pelican, puffin, toucan or similar non-junctio...   \n",
       "1       Pelican, puffin, toucan or similar non-junctio...   \n",
       "2       Pelican, puffin, toucan or similar non-junctio...   \n",
       "4             Pedestrian phase at traffic signal junction   \n",
       "5                                                   Zebra   \n",
       "...                                                   ...   \n",
       "247869  Pelican, puffin, toucan or similar non-junctio...   \n",
       "247870   No physical crossing facilities within 50 metres   \n",
       "247873        Pedestrian phase at traffic signal junction   \n",
       "247874                                     Central refuge   \n",
       "247875   No physical crossing facilities within 50 metres   \n",
       "\n",
       "             light_conditions     weather_conditions road_surface_conditions  \\\n",
       "0       Darkness - lights lit  Raining no high winds             Wet or damp   \n",
       "1                    Daylight  Raining no high winds             Wet or damp   \n",
       "2       Darkness - lights lit     Fine no high winds                     Dry   \n",
       "4       Darkness - lights lit      Fine + high winds                     Dry   \n",
       "5                    Daylight  Raining no high winds             Wet or damp   \n",
       "...                       ...                    ...                     ...   \n",
       "247869               Daylight                  Other             Wet or damp   \n",
       "247870               Daylight     Fine no high winds             Wet or damp   \n",
       "247873  Darkness - lights lit     Fine no high winds                     Dry   \n",
       "247874  Darkness - lights lit  Raining no high winds             Wet or damp   \n",
       "247875  Darkness - lights lit     Fine no high winds                     Dry   \n",
       "\n",
       "       special_conditions_at_site carriageway_hazards  \n",
       "0                            None                None  \n",
       "1                            None                None  \n",
       "2                            None                None  \n",
       "4                            None                None  \n",
       "5                            None                None  \n",
       "...                           ...                 ...  \n",
       "247869                       None                None  \n",
       "247870                       None                None  \n",
       "247873                       None                None  \n",
       "247874                       None                None  \n",
       "247875                       None                None  \n",
       "\n",
       "[143998 rows x 13 columns]"
      ]
     },
     "execution_count": 69,
     "metadata": {},
     "output_type": "execute_result"
    }
   ],
   "source": [
    "#getting only categorical features to incode\n",
    "ToEncode= CleandfEnc.select_dtypes('object')\n",
    "ToEncode"
   ]
  },
  {
   "cell_type": "markdown",
   "metadata": {},
   "source": [
    "Threshold to do one hot encoding; columns that have less than 5 unique values not to inc. dataset size"
   ]
  },
  {
   "cell_type": "code",
   "execution_count": 70,
   "metadata": {},
   "outputs": [
    {
     "data": {
      "text/html": [
       "<div>\n",
       "<style scoped>\n",
       "    .dataframe tbody tr th:only-of-type {\n",
       "        vertical-align: middle;\n",
       "    }\n",
       "\n",
       "    .dataframe tbody tr th {\n",
       "        vertical-align: top;\n",
       "    }\n",
       "\n",
       "    .dataframe thead th {\n",
       "        text-align: right;\n",
       "    }\n",
       "</style>\n",
       "<table border=\"1\" class=\"dataframe\">\n",
       "  <thead>\n",
       "    <tr style=\"text-align: right;\">\n",
       "      <th></th>\n",
       "      <th>accident_severity</th>\n",
       "      <th>road_type</th>\n",
       "      <th>junction_control</th>\n",
       "      <th>pedestrian_crossing_human_control</th>\n",
       "    </tr>\n",
       "  </thead>\n",
       "  <tbody>\n",
       "    <tr>\n",
       "      <th>0</th>\n",
       "      <td>Serious</td>\n",
       "      <td>One way street/Slip road</td>\n",
       "      <td>Give way or uncontrolled</td>\n",
       "      <td>None within 50 metres</td>\n",
       "    </tr>\n",
       "    <tr>\n",
       "      <th>1</th>\n",
       "      <td>Slight</td>\n",
       "      <td>Dual carriageway</td>\n",
       "      <td>Give way or uncontrolled</td>\n",
       "      <td>None within 50 metres</td>\n",
       "    </tr>\n",
       "    <tr>\n",
       "      <th>2</th>\n",
       "      <td>Serious</td>\n",
       "      <td>One way street/Slip road</td>\n",
       "      <td>Give way or uncontrolled</td>\n",
       "      <td>None within 50 metres</td>\n",
       "    </tr>\n",
       "    <tr>\n",
       "      <th>4</th>\n",
       "      <td>Slight</td>\n",
       "      <td>One way street/Slip road</td>\n",
       "      <td>Give way or uncontrolled</td>\n",
       "      <td>None within 50 metres</td>\n",
       "    </tr>\n",
       "    <tr>\n",
       "      <th>5</th>\n",
       "      <td>Slight</td>\n",
       "      <td>One way street/Slip road</td>\n",
       "      <td>Give way or uncontrolled</td>\n",
       "      <td>None within 50 metres</td>\n",
       "    </tr>\n",
       "    <tr>\n",
       "      <th>...</th>\n",
       "      <td>...</td>\n",
       "      <td>...</td>\n",
       "      <td>...</td>\n",
       "      <td>...</td>\n",
       "    </tr>\n",
       "    <tr>\n",
       "      <th>247869</th>\n",
       "      <td>Slight</td>\n",
       "      <td>One way street/Slip road</td>\n",
       "      <td>Give way or uncontrolled</td>\n",
       "      <td>None within 50 metres</td>\n",
       "    </tr>\n",
       "    <tr>\n",
       "      <th>247870</th>\n",
       "      <td>Slight</td>\n",
       "      <td>Single carriageway</td>\n",
       "      <td>Give way or uncontrolled</td>\n",
       "      <td>None within 50 metres</td>\n",
       "    </tr>\n",
       "    <tr>\n",
       "      <th>247873</th>\n",
       "      <td>Slight</td>\n",
       "      <td>Single carriageway</td>\n",
       "      <td>Give way or uncontrolled</td>\n",
       "      <td>None within 50 metres</td>\n",
       "    </tr>\n",
       "    <tr>\n",
       "      <th>247874</th>\n",
       "      <td>Slight</td>\n",
       "      <td>Roundabout</td>\n",
       "      <td>Give way or uncontrolled</td>\n",
       "      <td>None within 50 metres</td>\n",
       "    </tr>\n",
       "    <tr>\n",
       "      <th>247875</th>\n",
       "      <td>Serious</td>\n",
       "      <td>Single carriageway</td>\n",
       "      <td>Give way or uncontrolled</td>\n",
       "      <td>None within 50 metres</td>\n",
       "    </tr>\n",
       "  </tbody>\n",
       "</table>\n",
       "<p>143998 rows × 4 columns</p>\n",
       "</div>"
      ],
      "text/plain": [
       "       accident_severity                 road_type          junction_control  \\\n",
       "0                Serious  One way street/Slip road  Give way or uncontrolled   \n",
       "1                 Slight          Dual carriageway  Give way or uncontrolled   \n",
       "2                Serious  One way street/Slip road  Give way or uncontrolled   \n",
       "4                 Slight  One way street/Slip road  Give way or uncontrolled   \n",
       "5                 Slight  One way street/Slip road  Give way or uncontrolled   \n",
       "...                  ...                       ...                       ...   \n",
       "247869            Slight  One way street/Slip road  Give way or uncontrolled   \n",
       "247870            Slight        Single carriageway  Give way or uncontrolled   \n",
       "247873            Slight        Single carriageway  Give way or uncontrolled   \n",
       "247874            Slight                Roundabout  Give way or uncontrolled   \n",
       "247875           Serious        Single carriageway  Give way or uncontrolled   \n",
       "\n",
       "       pedestrian_crossing_human_control  \n",
       "0                 None within 50 metres   \n",
       "1                 None within 50 metres   \n",
       "2                 None within 50 metres   \n",
       "4                 None within 50 metres   \n",
       "5                 None within 50 metres   \n",
       "...                                  ...  \n",
       "247869            None within 50 metres   \n",
       "247870            None within 50 metres   \n",
       "247873            None within 50 metres   \n",
       "247874            None within 50 metres   \n",
       "247875            None within 50 metres   \n",
       "\n",
       "[143998 rows x 4 columns]"
      ]
     },
     "execution_count": 70,
     "metadata": {},
     "output_type": "execute_result"
    }
   ],
   "source": [
    "HotEncodingdf=ToEncode.loc[:, ToEncode.nunique() < 5]\n",
    "HotEncodingdf #dataframe that will do hot encoding to "
   ]
  },
  {
   "cell_type": "markdown",
   "metadata": {},
   "source": [
    "Threshold to do label encoding; columns that have more than or equal 5 unique values so not to increase the size of the dataset so much."
   ]
  },
  {
   "cell_type": "code",
   "execution_count": 71,
   "metadata": {},
   "outputs": [
    {
     "data": {
      "text/html": [
       "<div>\n",
       "<style scoped>\n",
       "    .dataframe tbody tr th:only-of-type {\n",
       "        vertical-align: middle;\n",
       "    }\n",
       "\n",
       "    .dataframe tbody tr th {\n",
       "        vertical-align: top;\n",
       "    }\n",
       "\n",
       "    .dataframe thead th {\n",
       "        text-align: right;\n",
       "    }\n",
       "</style>\n",
       "<table border=\"1\" class=\"dataframe\">\n",
       "  <thead>\n",
       "    <tr style=\"text-align: right;\">\n",
       "      <th></th>\n",
       "      <th>day_of_week</th>\n",
       "      <th>junction_detail</th>\n",
       "      <th>pedestrian_crossing_physical_facilities</th>\n",
       "      <th>light_conditions</th>\n",
       "      <th>weather_conditions</th>\n",
       "      <th>road_surface_conditions</th>\n",
       "      <th>special_conditions_at_site</th>\n",
       "      <th>carriageway_hazards</th>\n",
       "    </tr>\n",
       "  </thead>\n",
       "  <tbody>\n",
       "    <tr>\n",
       "      <th>0</th>\n",
       "      <td>Friday</td>\n",
       "      <td>Other junction</td>\n",
       "      <td>Pelican, puffin, toucan or similar non-junctio...</td>\n",
       "      <td>Darkness - lights lit</td>\n",
       "      <td>Raining no high winds</td>\n",
       "      <td>Wet or damp</td>\n",
       "      <td>None</td>\n",
       "      <td>None</td>\n",
       "    </tr>\n",
       "    <tr>\n",
       "      <th>1</th>\n",
       "      <td>Friday</td>\n",
       "      <td>Crossroads</td>\n",
       "      <td>Pelican, puffin, toucan or similar non-junctio...</td>\n",
       "      <td>Daylight</td>\n",
       "      <td>Raining no high winds</td>\n",
       "      <td>Wet or damp</td>\n",
       "      <td>None</td>\n",
       "      <td>None</td>\n",
       "    </tr>\n",
       "    <tr>\n",
       "      <th>2</th>\n",
       "      <td>Saturday</td>\n",
       "      <td>Other junction</td>\n",
       "      <td>Pelican, puffin, toucan or similar non-junctio...</td>\n",
       "      <td>Darkness - lights lit</td>\n",
       "      <td>Fine no high winds</td>\n",
       "      <td>Dry</td>\n",
       "      <td>None</td>\n",
       "      <td>None</td>\n",
       "    </tr>\n",
       "    <tr>\n",
       "      <th>4</th>\n",
       "      <td>Tuesday</td>\n",
       "      <td>T or staggered junction</td>\n",
       "      <td>Pedestrian phase at traffic signal junction</td>\n",
       "      <td>Darkness - lights lit</td>\n",
       "      <td>Fine + high winds</td>\n",
       "      <td>Dry</td>\n",
       "      <td>None</td>\n",
       "      <td>None</td>\n",
       "    </tr>\n",
       "    <tr>\n",
       "      <th>5</th>\n",
       "      <td>Wednesday</td>\n",
       "      <td>T or staggered junction</td>\n",
       "      <td>Zebra</td>\n",
       "      <td>Daylight</td>\n",
       "      <td>Raining no high winds</td>\n",
       "      <td>Wet or damp</td>\n",
       "      <td>None</td>\n",
       "      <td>None</td>\n",
       "    </tr>\n",
       "    <tr>\n",
       "      <th>...</th>\n",
       "      <td>...</td>\n",
       "      <td>...</td>\n",
       "      <td>...</td>\n",
       "      <td>...</td>\n",
       "      <td>...</td>\n",
       "      <td>...</td>\n",
       "      <td>...</td>\n",
       "      <td>...</td>\n",
       "    </tr>\n",
       "    <tr>\n",
       "      <th>247869</th>\n",
       "      <td>Thursday</td>\n",
       "      <td>Slip road</td>\n",
       "      <td>Pelican, puffin, toucan or similar non-junctio...</td>\n",
       "      <td>Daylight</td>\n",
       "      <td>Other</td>\n",
       "      <td>Wet or damp</td>\n",
       "      <td>None</td>\n",
       "      <td>None</td>\n",
       "    </tr>\n",
       "    <tr>\n",
       "      <th>247870</th>\n",
       "      <td>Wednesday</td>\n",
       "      <td>Crossroads</td>\n",
       "      <td>No physical crossing facilities within 50 metres</td>\n",
       "      <td>Daylight</td>\n",
       "      <td>Fine no high winds</td>\n",
       "      <td>Wet or damp</td>\n",
       "      <td>None</td>\n",
       "      <td>None</td>\n",
       "    </tr>\n",
       "    <tr>\n",
       "      <th>247873</th>\n",
       "      <td>Friday</td>\n",
       "      <td>T or staggered junction</td>\n",
       "      <td>Pedestrian phase at traffic signal junction</td>\n",
       "      <td>Darkness - lights lit</td>\n",
       "      <td>Fine no high winds</td>\n",
       "      <td>Dry</td>\n",
       "      <td>None</td>\n",
       "      <td>None</td>\n",
       "    </tr>\n",
       "    <tr>\n",
       "      <th>247874</th>\n",
       "      <td>Tuesday</td>\n",
       "      <td>Roundabout</td>\n",
       "      <td>Central refuge</td>\n",
       "      <td>Darkness - lights lit</td>\n",
       "      <td>Raining no high winds</td>\n",
       "      <td>Wet or damp</td>\n",
       "      <td>None</td>\n",
       "      <td>None</td>\n",
       "    </tr>\n",
       "    <tr>\n",
       "      <th>247875</th>\n",
       "      <td>Friday</td>\n",
       "      <td>T or staggered junction</td>\n",
       "      <td>No physical crossing facilities within 50 metres</td>\n",
       "      <td>Darkness - lights lit</td>\n",
       "      <td>Fine no high winds</td>\n",
       "      <td>Dry</td>\n",
       "      <td>None</td>\n",
       "      <td>None</td>\n",
       "    </tr>\n",
       "  </tbody>\n",
       "</table>\n",
       "<p>143998 rows × 8 columns</p>\n",
       "</div>"
      ],
      "text/plain": [
       "       day_of_week          junction_detail  \\\n",
       "0           Friday           Other junction   \n",
       "1           Friday               Crossroads   \n",
       "2         Saturday           Other junction   \n",
       "4          Tuesday  T or staggered junction   \n",
       "5        Wednesday  T or staggered junction   \n",
       "...            ...                      ...   \n",
       "247869    Thursday                Slip road   \n",
       "247870   Wednesday               Crossroads   \n",
       "247873      Friday  T or staggered junction   \n",
       "247874     Tuesday               Roundabout   \n",
       "247875      Friday  T or staggered junction   \n",
       "\n",
       "                  pedestrian_crossing_physical_facilities  \\\n",
       "0       Pelican, puffin, toucan or similar non-junctio...   \n",
       "1       Pelican, puffin, toucan or similar non-junctio...   \n",
       "2       Pelican, puffin, toucan or similar non-junctio...   \n",
       "4             Pedestrian phase at traffic signal junction   \n",
       "5                                                   Zebra   \n",
       "...                                                   ...   \n",
       "247869  Pelican, puffin, toucan or similar non-junctio...   \n",
       "247870   No physical crossing facilities within 50 metres   \n",
       "247873        Pedestrian phase at traffic signal junction   \n",
       "247874                                     Central refuge   \n",
       "247875   No physical crossing facilities within 50 metres   \n",
       "\n",
       "             light_conditions     weather_conditions road_surface_conditions  \\\n",
       "0       Darkness - lights lit  Raining no high winds             Wet or damp   \n",
       "1                    Daylight  Raining no high winds             Wet or damp   \n",
       "2       Darkness - lights lit     Fine no high winds                     Dry   \n",
       "4       Darkness - lights lit      Fine + high winds                     Dry   \n",
       "5                    Daylight  Raining no high winds             Wet or damp   \n",
       "...                       ...                    ...                     ...   \n",
       "247869               Daylight                  Other             Wet or damp   \n",
       "247870               Daylight     Fine no high winds             Wet or damp   \n",
       "247873  Darkness - lights lit     Fine no high winds                     Dry   \n",
       "247874  Darkness - lights lit  Raining no high winds             Wet or damp   \n",
       "247875  Darkness - lights lit     Fine no high winds                     Dry   \n",
       "\n",
       "       special_conditions_at_site carriageway_hazards  \n",
       "0                            None                None  \n",
       "1                            None                None  \n",
       "2                            None                None  \n",
       "4                            None                None  \n",
       "5                            None                None  \n",
       "...                           ...                 ...  \n",
       "247869                       None                None  \n",
       "247870                       None                None  \n",
       "247873                       None                None  \n",
       "247874                       None                None  \n",
       "247875                       None                None  \n",
       "\n",
       "[143998 rows x 8 columns]"
      ]
     },
     "execution_count": 71,
     "metadata": {},
     "output_type": "execute_result"
    }
   ],
   "source": [
    "labelEncodingdf=ToEncode.loc[:, ToEncode.nunique() >= 5]\n",
    "labelEncodingdf=labelEncodingdf.drop(['time'], axis=1)\n",
    "#we will not do label encoding to first and second road numbers since they are already represented in numbers with meaningful values\n",
    "labelEncodingdf #dataframe that will do label encoding to. first and second road classes were encoded using label encoding because\n",
    "#label encoding does encoding to numbers in alphabetical order, and the classes are already in alphabets"
   ]
  },
  {
   "cell_type": "code",
   "execution_count": 72,
   "metadata": {},
   "outputs": [
    {
     "data": {
      "text/html": [
       "<div>\n",
       "<style scoped>\n",
       "    .dataframe tbody tr th:only-of-type {\n",
       "        vertical-align: middle;\n",
       "    }\n",
       "\n",
       "    .dataframe tbody tr th {\n",
       "        vertical-align: top;\n",
       "    }\n",
       "\n",
       "    .dataframe thead th {\n",
       "        text-align: right;\n",
       "    }\n",
       "</style>\n",
       "<table border=\"1\" class=\"dataframe\">\n",
       "  <thead>\n",
       "    <tr style=\"text-align: right;\">\n",
       "      <th></th>\n",
       "      <th>day_of_week</th>\n",
       "      <th>junction_detail</th>\n",
       "      <th>pedestrian_crossing_physical_facilities</th>\n",
       "      <th>light_conditions</th>\n",
       "      <th>weather_conditions</th>\n",
       "      <th>road_surface_conditions</th>\n",
       "      <th>special_conditions_at_site</th>\n",
       "      <th>carriageway_hazards</th>\n",
       "    </tr>\n",
       "  </thead>\n",
       "  <tbody>\n",
       "    <tr>\n",
       "      <th>0</th>\n",
       "      <td>0</td>\n",
       "      <td>3</td>\n",
       "      <td>4</td>\n",
       "      <td>1</td>\n",
       "      <td>5</td>\n",
       "      <td>4</td>\n",
       "      <td>2</td>\n",
       "      <td>1</td>\n",
       "    </tr>\n",
       "    <tr>\n",
       "      <th>1</th>\n",
       "      <td>0</td>\n",
       "      <td>0</td>\n",
       "      <td>4</td>\n",
       "      <td>4</td>\n",
       "      <td>5</td>\n",
       "      <td>4</td>\n",
       "      <td>2</td>\n",
       "      <td>1</td>\n",
       "    </tr>\n",
       "    <tr>\n",
       "      <th>2</th>\n",
       "      <td>2</td>\n",
       "      <td>3</td>\n",
       "      <td>4</td>\n",
       "      <td>1</td>\n",
       "      <td>1</td>\n",
       "      <td>0</td>\n",
       "      <td>2</td>\n",
       "      <td>1</td>\n",
       "    </tr>\n",
       "    <tr>\n",
       "      <th>4</th>\n",
       "      <td>5</td>\n",
       "      <td>7</td>\n",
       "      <td>3</td>\n",
       "      <td>1</td>\n",
       "      <td>0</td>\n",
       "      <td>0</td>\n",
       "      <td>2</td>\n",
       "      <td>1</td>\n",
       "    </tr>\n",
       "    <tr>\n",
       "      <th>5</th>\n",
       "      <td>6</td>\n",
       "      <td>7</td>\n",
       "      <td>5</td>\n",
       "      <td>4</td>\n",
       "      <td>5</td>\n",
       "      <td>4</td>\n",
       "      <td>2</td>\n",
       "      <td>1</td>\n",
       "    </tr>\n",
       "    <tr>\n",
       "      <th>...</th>\n",
       "      <td>...</td>\n",
       "      <td>...</td>\n",
       "      <td>...</td>\n",
       "      <td>...</td>\n",
       "      <td>...</td>\n",
       "      <td>...</td>\n",
       "      <td>...</td>\n",
       "      <td>...</td>\n",
       "    </tr>\n",
       "    <tr>\n",
       "      <th>247869</th>\n",
       "      <td>4</td>\n",
       "      <td>6</td>\n",
       "      <td>4</td>\n",
       "      <td>4</td>\n",
       "      <td>3</td>\n",
       "      <td>4</td>\n",
       "      <td>2</td>\n",
       "      <td>1</td>\n",
       "    </tr>\n",
       "    <tr>\n",
       "      <th>247870</th>\n",
       "      <td>6</td>\n",
       "      <td>0</td>\n",
       "      <td>2</td>\n",
       "      <td>4</td>\n",
       "      <td>1</td>\n",
       "      <td>4</td>\n",
       "      <td>2</td>\n",
       "      <td>1</td>\n",
       "    </tr>\n",
       "    <tr>\n",
       "      <th>247873</th>\n",
       "      <td>0</td>\n",
       "      <td>7</td>\n",
       "      <td>3</td>\n",
       "      <td>1</td>\n",
       "      <td>1</td>\n",
       "      <td>0</td>\n",
       "      <td>2</td>\n",
       "      <td>1</td>\n",
       "    </tr>\n",
       "    <tr>\n",
       "      <th>247874</th>\n",
       "      <td>5</td>\n",
       "      <td>5</td>\n",
       "      <td>0</td>\n",
       "      <td>1</td>\n",
       "      <td>5</td>\n",
       "      <td>4</td>\n",
       "      <td>2</td>\n",
       "      <td>1</td>\n",
       "    </tr>\n",
       "    <tr>\n",
       "      <th>247875</th>\n",
       "      <td>0</td>\n",
       "      <td>7</td>\n",
       "      <td>2</td>\n",
       "      <td>1</td>\n",
       "      <td>1</td>\n",
       "      <td>0</td>\n",
       "      <td>2</td>\n",
       "      <td>1</td>\n",
       "    </tr>\n",
       "  </tbody>\n",
       "</table>\n",
       "<p>143998 rows × 8 columns</p>\n",
       "</div>"
      ],
      "text/plain": [
       "        day_of_week  junction_detail  pedestrian_crossing_physical_facilities  \\\n",
       "0                 0                3                                        4   \n",
       "1                 0                0                                        4   \n",
       "2                 2                3                                        4   \n",
       "4                 5                7                                        3   \n",
       "5                 6                7                                        5   \n",
       "...             ...              ...                                      ...   \n",
       "247869            4                6                                        4   \n",
       "247870            6                0                                        2   \n",
       "247873            0                7                                        3   \n",
       "247874            5                5                                        0   \n",
       "247875            0                7                                        2   \n",
       "\n",
       "        light_conditions  weather_conditions  road_surface_conditions  \\\n",
       "0                      1                   5                        4   \n",
       "1                      4                   5                        4   \n",
       "2                      1                   1                        0   \n",
       "4                      1                   0                        0   \n",
       "5                      4                   5                        4   \n",
       "...                  ...                 ...                      ...   \n",
       "247869                 4                   3                        4   \n",
       "247870                 4                   1                        4   \n",
       "247873                 1                   1                        0   \n",
       "247874                 1                   5                        4   \n",
       "247875                 1                   1                        0   \n",
       "\n",
       "        special_conditions_at_site  carriageway_hazards  \n",
       "0                                2                    1  \n",
       "1                                2                    1  \n",
       "2                                2                    1  \n",
       "4                                2                    1  \n",
       "5                                2                    1  \n",
       "...                            ...                  ...  \n",
       "247869                           2                    1  \n",
       "247870                           2                    1  \n",
       "247873                           2                    1  \n",
       "247874                           2                    1  \n",
       "247875                           2                    1  \n",
       "\n",
       "[143998 rows x 8 columns]"
      ]
     },
     "execution_count": 72,
     "metadata": {},
     "output_type": "execute_result"
    }
   ],
   "source": [
    "# Label Encoding\n",
    "def number_encode_features(df):\n",
    "    Labelresult1 = df.copy() # take a copy of the dataframe\n",
    "    for column in Labelresult1.columns:\n",
    "        if Labelresult1.dtypes[column] == object: # if attribute is categorical\n",
    "            # Apply LabelEncoder method to attribute\n",
    "            # fit will infer the number of numerical values needed by counting the number of categories\n",
    "            # then transform will replace each category with its numerical counterpart\n",
    "            Labelresult1[column] = preprocessing.LabelEncoder().fit_transform(Labelresult1[column])\n",
    "    return Labelresult1\n",
    "\n",
    "# Apply function defined above to labelEncodingdf\n",
    "labelEncodingdf=labelEncodingdf.astype(str)\n",
    "Labelencoded_data1 = number_encode_features(labelEncodingdf)\n",
    "\n",
    "# Display last 5 records in transformed dataset to verify numerical transformation\n",
    "Labelencoded_data1"
   ]
  },
  {
   "cell_type": "code",
   "execution_count": 73,
   "metadata": {},
   "outputs": [
    {
     "data": {
      "text/html": [
       "<div>\n",
       "<style scoped>\n",
       "    .dataframe tbody tr th:only-of-type {\n",
       "        vertical-align: middle;\n",
       "    }\n",
       "\n",
       "    .dataframe tbody tr th {\n",
       "        vertical-align: top;\n",
       "    }\n",
       "\n",
       "    .dataframe thead th {\n",
       "        text-align: right;\n",
       "    }\n",
       "</style>\n",
       "<table border=\"1\" class=\"dataframe\">\n",
       "  <thead>\n",
       "    <tr style=\"text-align: right;\">\n",
       "      <th></th>\n",
       "      <th>accident_severity_Fatal</th>\n",
       "      <th>accident_severity_Serious</th>\n",
       "      <th>accident_severity_Slight</th>\n",
       "      <th>road_type_Dual carriageway</th>\n",
       "      <th>road_type_One way street/Slip road</th>\n",
       "      <th>road_type_Roundabout</th>\n",
       "      <th>road_type_Single carriageway</th>\n",
       "      <th>junction_control_Authorised person</th>\n",
       "      <th>junction_control_Auto traffic signal</th>\n",
       "      <th>junction_control_Give way or uncontrolled</th>\n",
       "      <th>junction_control_Stop sign</th>\n",
       "      <th>pedestrian_crossing_human_control_Control by other authorised person</th>\n",
       "      <th>pedestrian_crossing_human_control_Control by school crossing patrol</th>\n",
       "      <th>pedestrian_crossing_human_control_None within 50 metres</th>\n",
       "    </tr>\n",
       "  </thead>\n",
       "  <tbody>\n",
       "    <tr>\n",
       "      <th>0</th>\n",
       "      <td>0</td>\n",
       "      <td>1</td>\n",
       "      <td>0</td>\n",
       "      <td>0</td>\n",
       "      <td>1</td>\n",
       "      <td>0</td>\n",
       "      <td>0</td>\n",
       "      <td>0</td>\n",
       "      <td>0</td>\n",
       "      <td>1</td>\n",
       "      <td>0</td>\n",
       "      <td>0</td>\n",
       "      <td>0</td>\n",
       "      <td>1</td>\n",
       "    </tr>\n",
       "    <tr>\n",
       "      <th>1</th>\n",
       "      <td>0</td>\n",
       "      <td>0</td>\n",
       "      <td>1</td>\n",
       "      <td>1</td>\n",
       "      <td>0</td>\n",
       "      <td>0</td>\n",
       "      <td>0</td>\n",
       "      <td>0</td>\n",
       "      <td>0</td>\n",
       "      <td>1</td>\n",
       "      <td>0</td>\n",
       "      <td>0</td>\n",
       "      <td>0</td>\n",
       "      <td>1</td>\n",
       "    </tr>\n",
       "    <tr>\n",
       "      <th>2</th>\n",
       "      <td>0</td>\n",
       "      <td>1</td>\n",
       "      <td>0</td>\n",
       "      <td>0</td>\n",
       "      <td>1</td>\n",
       "      <td>0</td>\n",
       "      <td>0</td>\n",
       "      <td>0</td>\n",
       "      <td>0</td>\n",
       "      <td>1</td>\n",
       "      <td>0</td>\n",
       "      <td>0</td>\n",
       "      <td>0</td>\n",
       "      <td>1</td>\n",
       "    </tr>\n",
       "    <tr>\n",
       "      <th>4</th>\n",
       "      <td>0</td>\n",
       "      <td>0</td>\n",
       "      <td>1</td>\n",
       "      <td>0</td>\n",
       "      <td>1</td>\n",
       "      <td>0</td>\n",
       "      <td>0</td>\n",
       "      <td>0</td>\n",
       "      <td>0</td>\n",
       "      <td>1</td>\n",
       "      <td>0</td>\n",
       "      <td>0</td>\n",
       "      <td>0</td>\n",
       "      <td>1</td>\n",
       "    </tr>\n",
       "    <tr>\n",
       "      <th>5</th>\n",
       "      <td>0</td>\n",
       "      <td>0</td>\n",
       "      <td>1</td>\n",
       "      <td>0</td>\n",
       "      <td>1</td>\n",
       "      <td>0</td>\n",
       "      <td>0</td>\n",
       "      <td>0</td>\n",
       "      <td>0</td>\n",
       "      <td>1</td>\n",
       "      <td>0</td>\n",
       "      <td>0</td>\n",
       "      <td>0</td>\n",
       "      <td>1</td>\n",
       "    </tr>\n",
       "    <tr>\n",
       "      <th>...</th>\n",
       "      <td>...</td>\n",
       "      <td>...</td>\n",
       "      <td>...</td>\n",
       "      <td>...</td>\n",
       "      <td>...</td>\n",
       "      <td>...</td>\n",
       "      <td>...</td>\n",
       "      <td>...</td>\n",
       "      <td>...</td>\n",
       "      <td>...</td>\n",
       "      <td>...</td>\n",
       "      <td>...</td>\n",
       "      <td>...</td>\n",
       "      <td>...</td>\n",
       "    </tr>\n",
       "    <tr>\n",
       "      <th>247869</th>\n",
       "      <td>0</td>\n",
       "      <td>0</td>\n",
       "      <td>1</td>\n",
       "      <td>0</td>\n",
       "      <td>1</td>\n",
       "      <td>0</td>\n",
       "      <td>0</td>\n",
       "      <td>0</td>\n",
       "      <td>0</td>\n",
       "      <td>1</td>\n",
       "      <td>0</td>\n",
       "      <td>0</td>\n",
       "      <td>0</td>\n",
       "      <td>1</td>\n",
       "    </tr>\n",
       "    <tr>\n",
       "      <th>247870</th>\n",
       "      <td>0</td>\n",
       "      <td>0</td>\n",
       "      <td>1</td>\n",
       "      <td>0</td>\n",
       "      <td>0</td>\n",
       "      <td>0</td>\n",
       "      <td>1</td>\n",
       "      <td>0</td>\n",
       "      <td>0</td>\n",
       "      <td>1</td>\n",
       "      <td>0</td>\n",
       "      <td>0</td>\n",
       "      <td>0</td>\n",
       "      <td>1</td>\n",
       "    </tr>\n",
       "    <tr>\n",
       "      <th>247873</th>\n",
       "      <td>0</td>\n",
       "      <td>0</td>\n",
       "      <td>1</td>\n",
       "      <td>0</td>\n",
       "      <td>0</td>\n",
       "      <td>0</td>\n",
       "      <td>1</td>\n",
       "      <td>0</td>\n",
       "      <td>0</td>\n",
       "      <td>1</td>\n",
       "      <td>0</td>\n",
       "      <td>0</td>\n",
       "      <td>0</td>\n",
       "      <td>1</td>\n",
       "    </tr>\n",
       "    <tr>\n",
       "      <th>247874</th>\n",
       "      <td>0</td>\n",
       "      <td>0</td>\n",
       "      <td>1</td>\n",
       "      <td>0</td>\n",
       "      <td>0</td>\n",
       "      <td>1</td>\n",
       "      <td>0</td>\n",
       "      <td>0</td>\n",
       "      <td>0</td>\n",
       "      <td>1</td>\n",
       "      <td>0</td>\n",
       "      <td>0</td>\n",
       "      <td>0</td>\n",
       "      <td>1</td>\n",
       "    </tr>\n",
       "    <tr>\n",
       "      <th>247875</th>\n",
       "      <td>0</td>\n",
       "      <td>1</td>\n",
       "      <td>0</td>\n",
       "      <td>0</td>\n",
       "      <td>0</td>\n",
       "      <td>0</td>\n",
       "      <td>1</td>\n",
       "      <td>0</td>\n",
       "      <td>0</td>\n",
       "      <td>1</td>\n",
       "      <td>0</td>\n",
       "      <td>0</td>\n",
       "      <td>0</td>\n",
       "      <td>1</td>\n",
       "    </tr>\n",
       "  </tbody>\n",
       "</table>\n",
       "<p>143998 rows × 14 columns</p>\n",
       "</div>"
      ],
      "text/plain": [
       "        accident_severity_Fatal  accident_severity_Serious  \\\n",
       "0                             0                          1   \n",
       "1                             0                          0   \n",
       "2                             0                          1   \n",
       "4                             0                          0   \n",
       "5                             0                          0   \n",
       "...                         ...                        ...   \n",
       "247869                        0                          0   \n",
       "247870                        0                          0   \n",
       "247873                        0                          0   \n",
       "247874                        0                          0   \n",
       "247875                        0                          1   \n",
       "\n",
       "        accident_severity_Slight  road_type_Dual carriageway  \\\n",
       "0                              0                           0   \n",
       "1                              1                           1   \n",
       "2                              0                           0   \n",
       "4                              1                           0   \n",
       "5                              1                           0   \n",
       "...                          ...                         ...   \n",
       "247869                         1                           0   \n",
       "247870                         1                           0   \n",
       "247873                         1                           0   \n",
       "247874                         1                           0   \n",
       "247875                         0                           0   \n",
       "\n",
       "        road_type_One way street/Slip road  road_type_Roundabout  \\\n",
       "0                                        1                     0   \n",
       "1                                        0                     0   \n",
       "2                                        1                     0   \n",
       "4                                        1                     0   \n",
       "5                                        1                     0   \n",
       "...                                    ...                   ...   \n",
       "247869                                   1                     0   \n",
       "247870                                   0                     0   \n",
       "247873                                   0                     0   \n",
       "247874                                   0                     1   \n",
       "247875                                   0                     0   \n",
       "\n",
       "        road_type_Single carriageway  junction_control_Authorised person  \\\n",
       "0                                  0                                   0   \n",
       "1                                  0                                   0   \n",
       "2                                  0                                   0   \n",
       "4                                  0                                   0   \n",
       "5                                  0                                   0   \n",
       "...                              ...                                 ...   \n",
       "247869                             0                                   0   \n",
       "247870                             1                                   0   \n",
       "247873                             1                                   0   \n",
       "247874                             0                                   0   \n",
       "247875                             1                                   0   \n",
       "\n",
       "        junction_control_Auto traffic signal  \\\n",
       "0                                          0   \n",
       "1                                          0   \n",
       "2                                          0   \n",
       "4                                          0   \n",
       "5                                          0   \n",
       "...                                      ...   \n",
       "247869                                     0   \n",
       "247870                                     0   \n",
       "247873                                     0   \n",
       "247874                                     0   \n",
       "247875                                     0   \n",
       "\n",
       "        junction_control_Give way or uncontrolled  junction_control_Stop sign  \\\n",
       "0                                               1                           0   \n",
       "1                                               1                           0   \n",
       "2                                               1                           0   \n",
       "4                                               1                           0   \n",
       "5                                               1                           0   \n",
       "...                                           ...                         ...   \n",
       "247869                                          1                           0   \n",
       "247870                                          1                           0   \n",
       "247873                                          1                           0   \n",
       "247874                                          1                           0   \n",
       "247875                                          1                           0   \n",
       "\n",
       "        pedestrian_crossing_human_control_Control by other authorised person  \\\n",
       "0                                                       0                      \n",
       "1                                                       0                      \n",
       "2                                                       0                      \n",
       "4                                                       0                      \n",
       "5                                                       0                      \n",
       "...                                                   ...                      \n",
       "247869                                                  0                      \n",
       "247870                                                  0                      \n",
       "247873                                                  0                      \n",
       "247874                                                  0                      \n",
       "247875                                                  0                      \n",
       "\n",
       "        pedestrian_crossing_human_control_Control by school crossing patrol  \\\n",
       "0                                                       0                     \n",
       "1                                                       0                     \n",
       "2                                                       0                     \n",
       "4                                                       0                     \n",
       "5                                                       0                     \n",
       "...                                                   ...                     \n",
       "247869                                                  0                     \n",
       "247870                                                  0                     \n",
       "247873                                                  0                     \n",
       "247874                                                  0                     \n",
       "247875                                                  0                     \n",
       "\n",
       "        pedestrian_crossing_human_control_None within 50 metres   \n",
       "0                                                       1         \n",
       "1                                                       1         \n",
       "2                                                       1         \n",
       "4                                                       1         \n",
       "5                                                       1         \n",
       "...                                                   ...         \n",
       "247869                                                  1         \n",
       "247870                                                  1         \n",
       "247873                                                  1         \n",
       "247874                                                  1         \n",
       "247875                                                  1         \n",
       "\n",
       "[143998 rows x 14 columns]"
      ]
     },
     "execution_count": 73,
     "metadata": {},
     "output_type": "execute_result"
    }
   ],
   "source": [
    "# one hot encoding\n",
    "\n",
    "def Hot_encode_features(df):\n",
    "    Hencoded_df = pd.get_dummies(df)\n",
    "    return Hencoded_df\n",
    "Hencoded_df=Hot_encode_features(HotEncodingdf)\n",
    "Hencoded_df"
   ]
  },
  {
   "cell_type": "markdown",
   "metadata": {},
   "source": [
    "After the encoding, we concatenated the dataframe of hot encoding, dataframe of label encoding and the numeric frame that has numerical features"
   ]
  },
  {
   "cell_type": "code",
   "execution_count": 74,
   "metadata": {},
   "outputs": [
    {
     "data": {
      "text/plain": [
       "Index(['accident_severity_Fatal', 'accident_severity_Serious',\n",
       "       'accident_severity_Slight', 'road_type_Dual carriageway',\n",
       "       'road_type_One way street/Slip road', 'road_type_Roundabout',\n",
       "       'road_type_Single carriageway', 'junction_control_Authorised person',\n",
       "       'junction_control_Auto traffic signal',\n",
       "       'junction_control_Give way or uncontrolled',\n",
       "       'junction_control_Stop sign',\n",
       "       'pedestrian_crossing_human_control_Control by other authorised person',\n",
       "       'pedestrian_crossing_human_control_Control by school crossing patrol',\n",
       "       'pedestrian_crossing_human_control_None within 50 metres ',\n",
       "       'day_of_week', 'junction_detail',\n",
       "       'pedestrian_crossing_physical_facilities', 'light_conditions',\n",
       "       'weather_conditions', 'road_surface_conditions',\n",
       "       'special_conditions_at_site', 'carriageway_hazards',\n",
       "       'number_of_vehicles', 'number_of_casualties', 'speed_limit'],\n",
       "      dtype='object')"
      ]
     },
     "execution_count": 74,
     "metadata": {},
     "output_type": "execute_result"
    }
   ],
   "source": [
    "EncodedFrame=pd.concat([Hencoded_df, Labelencoded_data1,numericFrame2 ], axis = 1)\n",
    "EncodedFrame.columns"
   ]
  },
  {
   "cell_type": "code",
   "execution_count": 75,
   "metadata": {},
   "outputs": [
    {
     "data": {
      "text/plain": [
       "(143998, 25)"
      ]
     },
     "execution_count": 75,
     "metadata": {},
     "output_type": "execute_result"
    }
   ],
   "source": [
    "EncodedFrame.shape"
   ]
  },
  {
   "cell_type": "markdown",
   "metadata": {},
   "source": [
    "We won't do normalization as all the numeric features we have in the dataset are on the same scale"
   ]
  },
  {
   "cell_type": "markdown",
   "metadata": {},
   "source": [
    "After cleaning and encoding, the dataset should be ready to feed it to the machine learning models"
   ]
  },
  {
   "cell_type": "markdown",
   "metadata": {},
   "source": [
    "## --------------------------------------------------------------------------------------------------------------------------"
   ]
  },
  {
   "cell_type": "markdown",
   "metadata": {},
   "source": [
    "# Part 2 - Applying Machine Learning Algorithms"
   ]
  },
  {
   "cell_type": "markdown",
   "metadata": {},
   "source": [
    "## --------------------------------------------------------------------------------------------------------------------------"
   ]
  },
  {
   "cell_type": "markdown",
   "metadata": {},
   "source": [
    "# Applying ML algorithms before diagnostics and tuning "
   ]
  },
  {
   "cell_type": "markdown",
   "metadata": {},
   "source": [
    "## - Using the default parameters in each algorithm"
   ]
  },
  {
   "cell_type": "code",
   "execution_count": 76,
   "metadata": {},
   "outputs": [],
   "source": [
    "#Determining Y (Accident Severity)\n",
    "Y = EncodedFrame.iloc[:, 0:3].values #onehotencoded\n",
    "label_encoder = LabelEncoder()\n",
    "Ylabelencoded = label_encoder.fit_transform(YLabelEncoding)\n"
   ]
  },
  {
   "cell_type": "code",
   "execution_count": 77,
   "metadata": {},
   "outputs": [
    {
     "data": {
      "text/plain": [
       "(143998, 21)"
      ]
     },
     "execution_count": 77,
     "metadata": {},
     "output_type": "execute_result"
    }
   ],
   "source": [
    "#Determining X (All other features)\n",
    "X= EncodedFrame.iloc[:, 4:].values\n",
    "X.shape"
   ]
  },
  {
   "cell_type": "code",
   "execution_count": 78,
   "metadata": {},
   "outputs": [
    {
     "name": "stdout",
     "output_type": "stream",
     "text": [
      "0: 1802\n",
      "1: 29975\n",
      "2: 112221\n"
     ]
    }
   ],
   "source": [
    "unique_values, value_counts = np.unique(Ylabelencoded, return_counts=True)\n",
    "# Print the unique values and their counts\n",
    "for value, count in zip(unique_values, value_counts):\n",
    "    print(f\"{value}: {count}\")"
   ]
  },
  {
   "cell_type": "code",
   "execution_count": 79,
   "metadata": {},
   "outputs": [
    {
     "data": {
      "text/plain": [
       "Slight     112221\n",
       "Serious     29975\n",
       "Fatal        1802\n",
       "Name: accident_severity, dtype: int64"
      ]
     },
     "execution_count": 79,
     "metadata": {},
     "output_type": "execute_result"
    }
   ],
   "source": [
    "CleandfOutliers.accident_severity.value_counts()"
   ]
  },
  {
   "cell_type": "markdown",
   "metadata": {},
   "source": [
    "This means 0 --> Fatal, 1 --> Serious, 2 --> Slight"
   ]
  },
  {
   "cell_type": "markdown",
   "metadata": {},
   "source": [
    "## --------------------------------------------------------------------------------------------------------------------------"
   ]
  },
  {
   "cell_type": "markdown",
   "metadata": {},
   "source": [
    "In this part, we will create a function for each algorithm that takes as input X (features) and target labels (Y) for simplicity and will be called "
   ]
  },
  {
   "cell_type": "markdown",
   "metadata": {},
   "source": [
    "## 1- Neural Networks"
   ]
  },
  {
   "cell_type": "markdown",
   "metadata": {},
   "source": [
    "We will use the MLP Classifier or the Multi-Layer Perceptron Classifier. It is a type of feedforward artificial neural network algorithm that is commonly used for multi class classification tasks. "
   ]
  },
  {
   "cell_type": "code",
   "execution_count": 92,
   "metadata": {},
   "outputs": [],
   "source": [
    "def NeuralNetworksBeforeDiagnostics(X, y):\n",
    "    X_train, X_test, y_train, y_test = train_test_split(X, y, test_size=0.2, random_state=42)\n",
    "    model = MLPClassifier(random_state=42,alpha=0)\n",
    "    model.fit(X_train, y_train)\n",
    "    accuracy = model.score(X_test, y_test)\n",
    "    return accuracy\n"
   ]
  },
  {
   "cell_type": "code",
   "execution_count": 102,
   "metadata": {},
   "outputs": [
    {
     "name": "stdout",
     "output_type": "stream",
     "text": [
      "0.727638888888889\n"
     ]
    }
   ],
   "source": [
    "NeuralNetworksBeforeDiagnostics(X, Ylabelencoded)"
   ]
  },
  {
   "cell_type": "markdown",
   "metadata": {},
   "source": [
    "#### Code Explanation"
   ]
  },
  {
   "cell_type": "markdown",
   "metadata": {},
   "source": [
    "* X_train, X_test, y_train, y_test = train_test_split(X, y, test_size=0.2, random_state=42): This line splits the input features X and the corresponding target labels y into training and testing sets using the train_test_split function from scikit-learn. The training set will contain 80% of the data, and the testing set will contain 20% of the data. The random_state parameter ensures reproducibility by fixing the random seed to 42.\n",
    "\n",
    "* model = MLPClassifier(random_state=42): The random_state parameter is set to 42 to ensure reproducibility of the results. This initialization has the model default hyperparameters. These are the default hyperparameters. hidden_layer_sizes: (100,). This parameter specifies the number of neurons in each hidden layer. By default, there is a single hidden layer with 100 neurons. activation: 'relu'. This parameter determines the activation function used for the hidden layers. This parameter specifies the optimizer algorithm used to train the model\n",
    "\n",
    "* model.fit(X_train, y_train): This line trains the MLPClassifier on the training data X_train and the corresponding labels y_train. The model learns the patterns and relationships in the training data to make predictions.\n",
    "\n",
    "* accuracy = model.score(X_test, y_test): This line evaluates the trained model's performance on the testing data X_test and the corresponding labels y_test. The score method calculates the accuracy of the model by comparing the predicted labels with the true labels. The accuracy value is assigned to the variable accuracy.\n",
    "\n",
    "* return accuracy: This line returns the accuracy value as the output of the NeuralNetworksBeforeDiagnostics function."
   ]
  },
  {
   "cell_type": "markdown",
   "metadata": {},
   "source": [
    "## 2- Logistic Regression"
   ]
  },
  {
   "cell_type": "code",
   "execution_count": 88,
   "metadata": {},
   "outputs": [],
   "source": [
    "def LogisticRegressionBeforeDiagnostics(X, y):\n",
    "    X_train, X_test, y_train, y_test = train_test_split(X, y, test_size=0.2, random_state=42)\n",
    "    model = LogisticRegression(multi_class='multinomial',max_iter=2000,C=1e10)\n",
    "    model.fit(X_train, y_train)\n",
    "    y_pred = model.predict(X_test)\n",
    "    accuracy = model.score(X_test, y_test)\n",
    "    return accuracy"
   ]
  },
  {
   "cell_type": "code",
   "execution_count": 103,
   "metadata": {},
   "outputs": [
    {
     "name": "stdout",
     "output_type": "stream",
     "text": [
      "0.7576736111111111\n"
     ]
    }
   ],
   "source": [
    "LogisticRegressionBeforeDiagnostics(X,Ylabelencoded)"
   ]
  },
  {
   "cell_type": "markdown",
   "metadata": {},
   "source": [
    "#### Code Explanation"
   ]
  },
  {
   "cell_type": "markdown",
   "metadata": {},
   "source": [
    "* the train/test split, model fittinng, model prediction and accuracy calculation part of the code is a concept that applies to all models \n",
    "* model = LogisticRegression(multi_class='multinomial', max_iter=2000, C=1e10) creates an instance of the logistic regression model. The multi_class parameter is set to 'multinomial', indicating that the logistic regression model will handle multiple classes. The max_iter parameter is set to 2000, specifying the maximum number of iterations for the model to converge during training. C=1e10 is added with a large number to disable regularization"
   ]
  },
  {
   "cell_type": "markdown",
   "metadata": {},
   "source": [
    "## 3- KNN"
   ]
  },
  {
   "cell_type": "code",
   "execution_count": 301,
   "metadata": {},
   "outputs": [],
   "source": [
    "def KNNBeforeDiagnostics(X, y):\n",
    "   KNNModel = KNeighborsClassifier()\n",
    "   X_train, X_test, y_train, y_test = train_test_split(X, y, test_size=0.2, random_state=42)\n",
    "   KNNModel.fit(X_train, y_train)\n",
    "   y_pred = KNNModel.predict(X_test)\n",
    "   accuracyscore = accuracy_score(y_test, y_pred)\n",
    "   return accuracyscore\n"
   ]
  },
  {
   "cell_type": "code",
   "execution_count": 303,
   "metadata": {},
   "outputs": [
    {
     "data": {
      "text/plain": [
       "0.7415972222222222"
      ]
     },
     "execution_count": 303,
     "metadata": {},
     "output_type": "execute_result"
    }
   ],
   "source": [
    " KNNBeforeDiagnostics(X, Ylabelencoded)"
   ]
  },
  {
   "cell_type": "markdown",
   "metadata": {},
   "source": [
    "#### Code Explanation"
   ]
  },
  {
   "cell_type": "markdown",
   "metadata": {},
   "source": [
    "* The line KNNModel = KNeighborsClassifier() creates an instance of the K-nearest neighbors (KNN) classifier model with default hyperparameter values. n_neighbors: 5. This parameter specifies the number of neighbors considered for each prediction. weights: 'uniform'. This parameter determines the weight assigned to each neighbor when making predictions. "
   ]
  },
  {
   "cell_type": "markdown",
   "metadata": {},
   "source": [
    "## 4- Naive Bayes"
   ]
  },
  {
   "cell_type": "code",
   "execution_count": 309,
   "metadata": {},
   "outputs": [],
   "source": [
    "def NBBeforeDiagnostics(X, Y):\n",
    " X_train, X_test, y_train, y_test = train_test_split(X, Y, test_size=0.2, random_state=42)\n",
    " nb = MultinomialNB(alpha=0.01)\n",
    " nb.fit(X_train, y_train)\n",
    " y_pred = nb.predict(X_test)\n",
    " NBaccuracy = accuracy_score(y_test, y_pred)\n",
    " print(f\"Accuracy: {NBaccuracy}\")"
   ]
  },
  {
   "cell_type": "code",
   "execution_count": 105,
   "metadata": {},
   "outputs": [
    {
     "name": "stdout",
     "output_type": "stream",
     "text": [
      "0.7115694444444444\n"
     ]
    }
   ],
   "source": [
    "NBBeforeDiagnostics(X, Ylabelencoded)"
   ]
  },
  {
   "cell_type": "markdown",
   "metadata": {},
   "source": [
    "#### Code Explanation"
   ]
  },
  {
   "cell_type": "markdown",
   "metadata": {},
   "source": [
    "* By calling MultinomialNB(alpha=0.01), we create a Multinomial NB model with a specific value for the alpha hyperparameter. we chose the multinomialNB because it works with discrete values as in our case and apply multiclass classification. The alpha parameter is a smoothing parameter that helps handle cases where certain features have zero probabilities in the training data. By setting alpha=0.01, we specify a relatively low smoothing factor."
   ]
  },
  {
   "cell_type": "markdown",
   "metadata": {},
   "source": [
    "## Before Diagnostics Results"
   ]
  },
  {
   "cell_type": "markdown",
   "metadata": {},
   "source": [
    "\n",
    "| Neural Networks | Logistic Regression | K-Nearest Neighbor | Naive Bayes |\n",
    "|----------|----------|----------|----------|\n",
    "|   0.7279861111111112    |   0.7576736111111111    |   0.7415972222222222   |   0.7115694444444444  |\n"
   ]
  },
  {
   "cell_type": "markdown",
   "metadata": {},
   "source": [
    "These are the accuracies of the 4 models with their default hyperparameters and without any diagnostics, we'll now examine the effect of tuning the model and applying diagnostics to the 4 algorithms."
   ]
  },
  {
   "cell_type": "markdown",
   "metadata": {},
   "source": [
    "## --------------------------------------------------------------------------------------------------------------------------"
   ]
  },
  {
   "cell_type": "markdown",
   "metadata": {},
   "source": [
    "# Applying ML algorithms with diagnostics, tuning and model evaluation:\n",
    "\n",
    "##  1- Applying K-fold on the 4 algorithms\n",
    "## 2- Applying Stratified Sampling on the 4 algorithms\n",
    "## 3- Applying K-fold + Stratified Sampling on the 4 algorithms\n",
    "###    ---&#9679; With applying regularization to Neural Networks & Logistic Regression\n",
    "###    ---&#9679; Displaying ROC Curve, Learning Curve & Confusion Matrix \n",
    "###    ---&#9679; Comparison between the 4 algorithm results\n",
    "\n"
   ]
  },
  {
   "cell_type": "markdown",
   "metadata": {},
   "source": [
    "In this section, regularization is applied and integrated with the 3 techniques; K-fold, Stratified Sampling and Stratified Kfold."
   ]
  },
  {
   "cell_type": "markdown",
   "metadata": {},
   "source": [
    "The purpose of this section is to assess applying the diagnostics for a model step by step alongside with tuning its hyperparameters and observing the change in the model's accuracy."
   ]
  },
  {
   "cell_type": "markdown",
   "metadata": {},
   "source": [
    "## -------------------------------------------------------------------------------------------------------------------------------"
   ]
  },
  {
   "cell_type": "markdown",
   "metadata": {},
   "source": [
    "# K-fold"
   ]
  },
  {
   "cell_type": "markdown",
   "metadata": {},
   "source": [
    "# ----------------------------------------------------------------------------------------------------------"
   ]
  },
  {
   "cell_type": "markdown",
   "metadata": {},
   "source": [
    "The purpose of K-Fold cross-validation (KFold) is to assess the performance and generalization ability of a machine learning model. It achieves this by dividing the available data into K subsets or \"folds\" and repeatedly training and evaluating the model on different combinations of these folds. K-Fold cross-validation provides more reliable performance estimates, allows effective utilization of data, and aids in model selection and hyperparameter tuning. It is a valuable technique for evaluating and comparing models, especially when the dataset is limited or when robust performance estimation is desired."
   ]
  },
  {
   "cell_type": "markdown",
   "metadata": {},
   "source": [
    "All hyperparameter tuning that took place in the 4 algorithms are made based on several trials of different hyperparameters and choosing the best ones that generated the best results "
   ]
  },
  {
   "cell_type": "markdown",
   "metadata": {},
   "source": [
    "## 1- Neural Networks"
   ]
  },
  {
   "cell_type": "markdown",
   "metadata": {},
   "source": [
    "We will create a function for the 4 models with hyperparameters tuned."
   ]
  },
  {
   "cell_type": "code",
   "execution_count": 321,
   "metadata": {},
   "outputs": [],
   "source": [
    "def NeuralNetworksKfold(X, Y):\n",
    "    NNmodel = MLPClassifier(hidden_layer_sizes=(100, 50), activation='relu', solver='sgd', learning_rate='adaptive',alpha=0.001, random_state=42,max_iter=700)\n",
    "    kf = KFold(n_splits=5, random_state=42, shuffle=True)\n",
    "    scores = cross_val_score(NNmodel, X, Y, cv=kf)\n",
    "    for fold, score in enumerate(scores, 1):\n",
    "        print(f\"Fold {fold} Accuracy: {score}\")\n",
    "    print(\"Mean Accuracy of Neural Networks KFold:\", np.mean(scores))"
   ]
  },
  {
   "cell_type": "code",
   "execution_count": 331,
   "metadata": {},
   "outputs": [
    {
     "name": "stdout",
     "output_type": "stream",
     "text": [
      "Fold 1 Accuracy: 0.7776736111111111\n",
      "Fold 2 Accuracy: 0.779375\n",
      "Fold 3 Accuracy: 0.7783333333333333\n",
      "Fold 4 Accuracy: 0.7774575506093961\n",
      "Fold 5 Accuracy: 0.7830132990728845\n",
      "Mean Accuracy of Neural Networks KFold: 0.779170558825345\n"
     ]
    }
   ],
   "source": [
    "NeuralNetworksKfold(X, Ylabelencoded)"
   ]
  },
  {
   "cell_type": "markdown",
   "metadata": {},
   "source": [
    "#### Code Explanation"
   ]
  },
  {
   "cell_type": "markdown",
   "metadata": {},
   "source": [
    "* NNmodel = MLPClassifier(hidden_layer_sizes=(100, 50), activation='relu', solver='sgd', learning_rate='adaptive', alpha=0.001, random_state=42, max_iter=700): This line creates an instance of the MLPClassifier class from scikit-learn. It specifies the architecture and configuration of the MLP model with 2 hidden layers; A hidden layer of 100 neurons followed by a hidden layer of 50 neurons. The activation function used is ReLU, and the solver is stochastic gradient descent (sgd). The learning rate is adaptive, and the alpha parameter controls L2 regularization. The random_state parameter ensures reproducibility, and max_iter determines the maximum number of iterations for training the model.\n",
    "\n",
    "* kf = KFold(n_splits=5, random_state=42, shuffle=True): This line creates an instance of KFold cross-validator from scikit-learn. It specifies that the data should be split into 5 folds, ensuring reproducibility with the random_state parameter, and shuffling the data before splitting with the shuffle parameter set to True.\n",
    "\n",
    "* scores = cross_val_score(NNmodel, X, Y, cv=kf): This line performs K-Fold cross-validation using the cross_val_score function from scikit-learn. It evaluates the performance of the MLP model (NNmodel) on the input features (X) and target labels (Y) using the KFold cross-validator (kf). The cross_val_score function returns an array of scores obtained for each fold.\n",
    "\n",
    "* for fold, score in enumerate(scores, 1):: This line starts a loop that iterates over the scores obtained from each fold, using the enumerate function. The enumerate function returns both the index of the score (fold number) and the score itself. The loop variable fold represents the fold number, and score represents the accuracy score of the MLP model on that fold.\n",
    "\n",
    "* print(f\"Fold {fold} Accuracy: {score}\"): This line prints the accuracy score for each fold in the format \"Fold {fold} Accuracy: {score}\".\n",
    "\n",
    "* print(\"Mean Accuracy of Neural Networks KFold:\", np.mean(scores)): This line prints the mean accuracy of the MLP model across all the folds using the np.mean function from the NumPy library."
   ]
  },
  {
   "cell_type": "markdown",
   "metadata": {},
   "source": [
    "## 2- Logistic Regression"
   ]
  },
  {
   "cell_type": "code",
   "execution_count": 325,
   "metadata": {},
   "outputs": [],
   "source": [
    "def LogisticRegressionKFold(X,Y):\n",
    " classifier = LogisticRegression(multi_class='multinomial', random_state=42, penalty='l2', C=0.1,max_iter=3000)\n",
    " kf = KFold(n_splits=5, random_state=42, shuffle=True)\n",
    " scores = []\n",
    " for train, test in kf.split(X, Y):\n",
    "    classifier.fit(X[train], Y[train])\n",
    "    y_pred = classifier.predict(X[test])\n",
    "    accuracy = accuracy_score(Y[test], y_pred)\n",
    "    scores.append(accuracy)\n",
    " mean_accuracy = np.mean(scores)\n",
    " for fold, score in enumerate(scores, 1):\n",
    "        print(f\"Fold {fold} Accuracy: {score}\")\n",
    " print(\"Mean Accuracy of Logistic Regression KFold:\", mean_accuracy)"
   ]
  },
  {
   "cell_type": "code",
   "execution_count": 326,
   "metadata": {},
   "outputs": [
    {
     "name": "stdout",
     "output_type": "stream",
     "text": [
      "Fold 1 Accuracy: 0.7776736111111111\n",
      "Fold 2 Accuracy: 0.7792361111111111\n",
      "Fold 3 Accuracy: 0.7785416666666667\n",
      "Fold 4 Accuracy: 0.7774575506093961\n",
      "Fold 5 Accuracy: 0.782909128789194\n",
      "Mean Accuracy of Logistic Regression KFold: 0.7791636136574959\n"
     ]
    }
   ],
   "source": [
    "LogisticRegressionKFold(X,Ylabelencoded)"
   ]
  },
  {
   "cell_type": "markdown",
   "metadata": {},
   "source": [
    "#### Code Explanation"
   ]
  },
  {
   "cell_type": "markdown",
   "metadata": {},
   "source": [
    "* Here, the logistic regression model is initialized with a regularization parameter. penalty='l2': This specifies the regularization penalty to be applied. 'l2' indicates that the L2 regularization penalty, also known as ridge regression, will be used. It helps prevent overfitting by adding a penalty term based on the square of the coefficients. C=0.1: This controls the inverse of the regularization strength. A smaller value of C indicates stronger regularization. In our case, C is set to 0.1, meaning a relatively stronger regularization will be applied."
   ]
  },
  {
   "cell_type": "markdown",
   "metadata": {},
   "source": [
    "## 3- KNN"
   ]
  },
  {
   "cell_type": "code",
   "execution_count": 327,
   "metadata": {},
   "outputs": [],
   "source": [
    "def KNNKFold(X, Y_encoded):\n",
    "    knn = KNeighborsClassifier(n_neighbors=23)\n",
    "    kf = KFold(n_splits=5, random_state=42, shuffle=True)\n",
    "    scores = cross_val_score(knn, X, Y_encoded, cv=kf, scoring='accuracy')\n",
    "    for fold, score in enumerate(scores, 1):\n",
    "        print(f\"Fold {fold} Accuracy: {score}\")\n",
    "    print(\"Mean accuracy of KNN Kfold:\", np.mean(scores))\n",
    "\n",
    "   "
   ]
  },
  {
   "cell_type": "code",
   "execution_count": 328,
   "metadata": {},
   "outputs": [
    {
     "name": "stdout",
     "output_type": "stream",
     "text": [
      "Fold 1 Accuracy: 0.7757986111111111\n",
      "Fold 2 Accuracy: 0.7748958333333333\n",
      "Fold 3 Accuracy: 0.7776736111111111\n",
      "Fold 4 Accuracy: 0.7763116774888017\n",
      "Fold 5 Accuracy: 0.782041043091774\n",
      "Mean accuracy of KNN Kfold: 0.7773441552272262\n"
     ]
    }
   ],
   "source": [
    "KNNKFold(X,Ylabelencoded)"
   ]
  },
  {
   "cell_type": "markdown",
   "metadata": {},
   "source": [
    "#### Code Explanation"
   ]
  },
  {
   "cell_type": "markdown",
   "metadata": {},
   "source": [
    "* In this algorithm, we set the number of neighbors to 23 as this was the best number of neighbors we got during hyperparameter tuning."
   ]
  },
  {
   "cell_type": "markdown",
   "metadata": {},
   "source": [
    "## 4- Naive Bayes"
   ]
  },
  {
   "cell_type": "code",
   "execution_count": 329,
   "metadata": {},
   "outputs": [],
   "source": [
    "def NBKFold(X, Y):\n",
    " nb = MultinomialNB(alpha=0.01)\n",
    " kf = KFold(n_splits=5, random_state=42, shuffle=True)\n",
    " scores = cross_val_score(nb, X, Y, cv=kf, scoring='accuracy')\n",
    " for fold, score in enumerate(scores, 1):\n",
    "        print(f\"Fold {fold} Accuracy: {score}\")\n",
    " print(\"Mean accuracy of Naive Bayes Kfold:\", np.mean(scores))"
   ]
  },
  {
   "cell_type": "code",
   "execution_count": 330,
   "metadata": {},
   "outputs": [
    {
     "name": "stdout",
     "output_type": "stream",
     "text": [
      "Fold 1 Accuracy: 0.7775694444444444\n",
      "Fold 2 Accuracy: 0.7796527777777778\n",
      "Fold 3 Accuracy: 0.7786458333333334\n",
      "Fold 4 Accuracy: 0.777665891176777\n",
      "Fold 5 Accuracy: 0.7830827459286781\n",
      "Mean accuracy of Naive Bayes Kfold: 0.7793233385322023\n"
     ]
    }
   ],
   "source": [
    "NBKFold(X, Ylabelencoded)"
   ]
  },
  {
   "cell_type": "markdown",
   "metadata": {},
   "source": [
    "#### Code Explanation"
   ]
  },
  {
   "cell_type": "markdown",
   "metadata": {},
   "source": [
    "* In Naive Bayes algorithm with Kfold, it is the same function before diagnostics but with applying Kfold to give a better indication of the model's accuracy."
   ]
  },
  {
   "cell_type": "markdown",
   "metadata": {},
   "source": [
    "## Kfold + Regularization Results"
   ]
  },
  {
   "cell_type": "markdown",
   "metadata": {},
   "source": [
    "\n",
    "| Neural Networks | Logistic Regression | K-Nearest Neighbor | Naive Bayes |\n",
    "|----------|----------|----------|----------|\n",
    "|   0.779170558825345    |   0.7791636136574959    |   0.7773441552272262    |   0.7793233385322023  |\n"
   ]
  },
  {
   "cell_type": "markdown",
   "metadata": {},
   "source": [
    "It is observed that for the 4 algorithms, the accuracies got better after some tuning and some diagnostics application. For neural networks, the accuracy got increased by approx. +6%. For Logistic regression, the accuracy got increased by approx. +3%. For KNN, the accuracy got increased by approx. +4%, and for Naive Bayes, it got increased by approx. +7%. This is due to the effect of regularization to avoid overfitting, Kfold to give a better indication for the model performance across different folds, and hyperparameter tuning."
   ]
  },
  {
   "cell_type": "markdown",
   "metadata": {},
   "source": [
    "# ----------------------------------------------------------------------------------------------------------"
   ]
  },
  {
   "cell_type": "markdown",
   "metadata": {},
   "source": [
    "# Stratified Sampling"
   ]
  },
  {
   "cell_type": "markdown",
   "metadata": {},
   "source": [
    "# ----------------------------------------------------------------------------------------------------------"
   ]
  },
  {
   "cell_type": "markdown",
   "metadata": {},
   "source": [
    "The purpose of stratified sampling is to ensure that a sample drawn from a population is representative of different subgroups or strata within that population. This technique allows for more accurate and reliable estimates by including proportional samples from each stratum. The main objectives of stratified sampling are to increase representativeness, reduce sampling error, enable subgroup analysis, and optimize resource allocation. Overall, stratified sampling improves the quality of research by capturing the diversity and characteristics of the population's subgroups."
   ]
  },
  {
   "cell_type": "markdown",
   "metadata": {},
   "source": [
    "In this section, only a slight change is done to the 4 algorithms, a parameter called \"stratify\" is added to each model initialization. This parameter takes the target features (y) vector. stratify=y in sampling methods ensures that the resulting splits maintain the proportion of classes in the target variable y, allowing for more balanced and representative datasets for training and evaluation purposes."
   ]
  },
  {
   "cell_type": "markdown",
   "metadata": {},
   "source": [
    "## 1- Neural Networks"
   ]
  },
  {
   "cell_type": "code",
   "execution_count": 332,
   "metadata": {},
   "outputs": [],
   "source": [
    "def NeuralNetworksStratifiedSampling(X, y):\n",
    " X_train, X_test, y_train, y_test = train_test_split(X, y, test_size=0.2, random_state=42,stratify=y)\n",
    " NNmodel = MLPClassifier(hidden_layer_sizes=(200, 100), activation='relu', solver='sgd', learning_rate='adaptive',alpha=0.001, random_state=42,max_iter=600)\n",
    " NNmodel.fit(X_train, y_train)\n",
    " y_pred = NNmodel.predict(X_test)\n",
    " accuracy = accuracy_score(y_test, y_pred)\n",
    " print(\"Neural Networks with Stratified Sampling Accuracy:\", accuracy)\n",
    "    "
   ]
  },
  {
   "cell_type": "code",
   "execution_count": 333,
   "metadata": {},
   "outputs": [
    {
     "name": "stdout",
     "output_type": "stream",
     "text": [
      "Neural Networks with Stratified Sampling Accuracy: 0.7789583333333333\n"
     ]
    }
   ],
   "source": [
    "NeuralNetworksStratifiedSampling(X, Ylabelencoded)"
   ]
  },
  {
   "cell_type": "markdown",
   "metadata": {},
   "source": [
    "## 2- Logistic Regression"
   ]
  },
  {
   "cell_type": "code",
   "execution_count": 334,
   "metadata": {},
   "outputs": [],
   "source": [
    "def LogisticRegressionStratifiedSampling(X, Y):\n",
    "    X_train, X_test, y_train, y_test = train_test_split(X, Y, test_size=0.2, stratify=Y)\n",
    "    classifier = LogisticRegression(multi_class='multinomial', random_state=42, penalty='l2', C=0.1,max_iter=2000)\n",
    "    classifier.fit(X_train, y_train)\n",
    "    y_pred = classifier.predict(X_test)\n",
    "    accuracy = accuracy_score(y_test, y_pred)\n",
    "    print(\"Logistic Regression Stratified Sampling Accuracy:\", accuracy)\n",
    "    \n",
    "    "
   ]
  },
  {
   "cell_type": "code",
   "execution_count": 335,
   "metadata": {},
   "outputs": [
    {
     "name": "stdout",
     "output_type": "stream",
     "text": [
      "Logistic Regression Stratified Sampling Accuracy: 0.7791666666666667\n"
     ]
    }
   ],
   "source": [
    "LogisticRegressionStratifiedSampling(X, Ylabelencoded)"
   ]
  },
  {
   "cell_type": "markdown",
   "metadata": {},
   "source": [
    "## 3- KNN"
   ]
  },
  {
   "cell_type": "code",
   "execution_count": 341,
   "metadata": {},
   "outputs": [],
   "source": [
    "def KNNStratifiedSampling(X, y):\n",
    "   KNNModel = KNeighborsClassifier(n_neighbors=23)\n",
    "   X_train, X_test, y_train, y_test = train_test_split(X, y, test_size=0.2,stratify=y, random_state=42)\n",
    "   KNNModel.fit(X_train, y_train)\n",
    "   y_pred = KNNModel.predict(X_test)\n",
    "   accuracyscore = accuracy_score(y_test, y_pred)\n",
    "   print(\"KNN Stratified Sampling Accuracy:\",accuracyscore)\n"
   ]
  },
  {
   "cell_type": "code",
   "execution_count": 342,
   "metadata": {},
   "outputs": [
    {
     "name": "stdout",
     "output_type": "stream",
     "text": [
      "KNN Stratified Sampling Accuracy: 0.7757638888888889\n"
     ]
    }
   ],
   "source": [
    "KNNStratifiedSampling(X, Ylabelencoded)"
   ]
  },
  {
   "cell_type": "markdown",
   "metadata": {},
   "source": [
    "## 4- Naive Bayes"
   ]
  },
  {
   "cell_type": "code",
   "execution_count": 339,
   "metadata": {},
   "outputs": [],
   "source": [
    "def NBStratifiedSampling(X, Y):\n",
    " X_train, X_test, y_train, y_test = train_test_split(X, Y, test_size=0.2, stratify=Y, random_state=42)\n",
    " nb = MultinomialNB(alpha=0.01)\n",
    " nb.fit(X_train, y_train)\n",
    " y_pred = nb.predict(X_test)\n",
    " NBaccuracy = accuracy_score(y_test, y_pred)\n",
    " print(f\"Naive Bayes Stratified Sampling Accuracy: {NBaccuracy}\")\n",
    "  "
   ]
  },
  {
   "cell_type": "code",
   "execution_count": 340,
   "metadata": {},
   "outputs": [
    {
     "name": "stdout",
     "output_type": "stream",
     "text": [
      "Naive Bayes Stratified Sampling Accuracy: 0.7793402777777778\n"
     ]
    }
   ],
   "source": [
    "NBStratifiedSampling(X, Ylabelencoded)"
   ]
  },
  {
   "cell_type": "markdown",
   "metadata": {},
   "source": [
    "## Stratified Sampling + Regularization Results"
   ]
  },
  {
   "cell_type": "markdown",
   "metadata": {},
   "source": [
    "\n",
    "| Neural Networks | Logistic Regression | K-Nearest Neighbor | Naive Bayes |\n",
    "|----------|----------|----------|----------|\n",
    "|   0.7789583333333333   |   0.7791666666666667    |   0.7757638888888889    |   0.7793402777777778  |\n"
   ]
  },
  {
   "cell_type": "markdown",
   "metadata": {},
   "source": [
    "Accuracies of applying stratified sampling alone with regularization are nearly the same as applying Kfold with regularization. This means that  the dataset was already well-distributed across classes or has a sufficient sample size. Both techniques aim to ensure representative evaluations, but their impact may be less pronounced when the data characteristics and model performance are already aligned. Which, overall, gives a good indication."
   ]
  },
  {
   "cell_type": "markdown",
   "metadata": {},
   "source": [
    "# ---------------------------------------------------------------------------------------------------------------"
   ]
  },
  {
   "cell_type": "markdown",
   "metadata": {},
   "source": [
    "# Kfold + Stratified Sampling"
   ]
  },
  {
   "cell_type": "markdown",
   "metadata": {},
   "source": [
    "# ---------------------------------------------------------------------------------------------------------------"
   ]
  },
  {
   "cell_type": "markdown",
   "metadata": {},
   "source": [
    "The purpose of stratified K-fold cross-validation is to ensure that the distribution of classes in the target variable is preserved across the folds during the evaluation of a machine learning model, as the normal/traditional kfold doesn't ensure this. Theoretically, the stratified Kfold is the best to use because it integrates both Kfold and stratified sampling techniques."
   ]
  },
  {
   "cell_type": "markdown",
   "metadata": {},
   "source": [
    "In each of the following functions, we returned some variables to be able to use them when plotting the curves based on Kfold stratified results; the model, test set (x&y), and predicted y. "
   ]
  },
  {
   "cell_type": "markdown",
   "metadata": {},
   "source": [
    "## 1- Neural Networks"
   ]
  },
  {
   "cell_type": "code",
   "execution_count": 80,
   "metadata": {},
   "outputs": [],
   "source": [
    "def NeuralNetworksStratifiedKfold(X,y):\n",
    " skf = StratifiedKFold(n_splits=5)\n",
    " mlp = MLPClassifier(hidden_layer_sizes=(200, 100), activation='relu', solver='sgd', learning_rate='constant',alpha=0.001, random_state=42,max_iter=600)\n",
    " accuracy_scores = []\n",
    " for train_index, test_index in skf.split(X, y):\n",
    "    X_train, X_test = X[train_index], X[test_index]\n",
    "    y_train, y_test = y[train_index], y[test_index]\n",
    "    mlp.fit(X_train, y_train)\n",
    "    y_pred = mlp.predict(X_test)\n",
    "    accuracy = accuracy_score(y_test, y_pred)\n",
    "    accuracy_scores.append(accuracy)\n",
    " mean_accuracy = sum(accuracy_scores) / len(accuracy_scores)\n",
    " print(\"Neural Networks Stratified KFold Mean Accuracy:\", mean_accuracy)\n",
    " return mlp, y, X_test, y_test, y_pred  "
   ]
  },
  {
   "cell_type": "code",
   "execution_count": 108,
   "metadata": {},
   "outputs": [
    {
     "name": "stdout",
     "output_type": "stream",
     "text": [
      "Neural Networks Stratified KFold Mean Accuracy: 0.798948310319417\n"
     ]
    }
   ],
   "source": [
    "NNModel, NNyStratify, NNxtest, NNytest, NNypred=NeuralNetworksStratifiedKfold(X,Ylabelencoded)"
   ]
  },
  {
   "cell_type": "markdown",
   "metadata": {},
   "source": [
    "## 2- Logistic Regression"
   ]
  },
  {
   "cell_type": "code",
   "execution_count": 106,
   "metadata": {},
   "outputs": [],
   "source": [
    "def LogisticRegressionStratifiedKfold(X,y):\n",
    " skf = StratifiedKFold(n_splits=5)\n",
    " log_reg = LogisticRegression(random_state=42,multi_class='multinomial',max_iter=2000)\n",
    " accuracy_scores = []\n",
    " for train_index, test_index in skf.split(X, y):\n",
    "    X_train, X_test = X[train_index], X[test_index]\n",
    "    y_train, y_test = y[train_index], y[test_index]\n",
    "    log_reg.fit(X_train, y_train)\n",
    "    y_pred = log_reg.predict(X_test)\n",
    "    accuracy = accuracy_score(y_test, y_pred)\n",
    "    accuracy_scores.append(accuracy)\n",
    " mean_accuracy = sum(accuracy_scores) / len(accuracy_scores)\n",
    " print(\"Logistic Regression Stratified Kfold Mean Accuracy:\", mean_accuracy)\n",
    " return log_reg, y, X_test, y_test, y_pred "
   ]
  },
  {
   "cell_type": "code",
   "execution_count": 109,
   "metadata": {},
   "outputs": [
    {
     "name": "stdout",
     "output_type": "stream",
     "text": [
      "Logistic Regression Stratified Kfold Mean Accuracy: 0.8191149839789963\n"
     ]
    }
   ],
   "source": [
    "LRModel, LRyStratify, LRxtest, LRytest, LRypred=LogisticRegressionStratifiedKfold(X,Ylabelencoded)"
   ]
  },
  {
   "cell_type": "markdown",
   "metadata": {},
   "source": [
    "## 3- KNN"
   ]
  },
  {
   "cell_type": "code",
   "execution_count": 351,
   "metadata": {},
   "outputs": [],
   "source": [
    "def KNNStratifiedKfold(X,y):\n",
    " skf = StratifiedKFold(n_splits=5)\n",
    " knn = KNeighborsClassifier(n_neighbors=23)\n",
    " accuracy_scores = []\n",
    " for train_index, test_index in skf.split(X, y):\n",
    "    X_train, X_test = X[train_index], X[test_index]\n",
    "    y_train, y_test = y[train_index], y[test_index]\n",
    "    knn.fit(X_train, y_train)\n",
    "    y_pred = knn.predict(X_test)\n",
    "    accuracy = accuracy_score(y_test, y_pred)\n",
    "    accuracy_scores.append(accuracy)\n",
    " mean_accuracy = sum(accuracy_scores) / len(accuracy_scores)\n",
    " print(\"KNN Stratified Kfold Mean Accuracy:\", mean_accuracy)\n",
    " return knn, y, X_test, y_test, y_pred  "
   ]
  },
  {
   "cell_type": "code",
   "execution_count": 110,
   "metadata": {},
   "outputs": [
    {
     "name": "stdout",
     "output_type": "stream",
     "text": [
      "KNN Stratified Kfold Mean Accuracy: 0.7977260654305127\n"
     ]
    }
   ],
   "source": [
    "KNNModel, KNNyStratify, KNNxtest, KNNytest,KNNypred=KNNStratifiedKfold(X,Ylabelencoded) "
   ]
  },
  {
   "cell_type": "markdown",
   "metadata": {},
   "source": [
    "## 4- Naive Bayes"
   ]
  },
  {
   "cell_type": "code",
   "execution_count": 122,
   "metadata": {},
   "outputs": [],
   "source": [
    "def NBStratifiedKfold(X,y):\n",
    " skf = StratifiedKFold(n_splits=5, shuffle=True, random_state=42)\n",
    " accuracy_scores = []\n",
    " for train_idx, test_idx in skf.split(X, y):\n",
    "    X_train, X_test = X[train_idx], X[test_idx]\n",
    "    y_train, y_test = y[train_idx], y[test_idx]\n",
    "    nb = MultinomialNB(alpha=0.01)\n",
    "    nb.fit(X_train, y_train)\n",
    "    y_pred = nb.predict(X_test)\n",
    "    accuracy = accuracy_score(y_test, y_pred)\n",
    "    accuracy_scores.append(accuracy)\n",
    " average_accuracy = np.mean(accuracy_scores)\n",
    " print(f\" Naive Bayes Stratified Kfold Average Accuracy: {average_accuracy}\")\n",
    " return nb, y, X_test, y_test, y_pred  "
   ]
  },
  {
   "cell_type": "code",
   "execution_count": 111,
   "metadata": {},
   "outputs": [
    {
     "name": "stdout",
     "output_type": "stream",
     "text": [
      "Naive Bayes Stratified Kfold Average Accuracy: 0.7893233240641071\n"
     ]
    }
   ],
   "source": [
    "NBModel, NByStratify, NBxtest, NBytest, NBypred=NBStratifiedKfold(X,Ylabelencoded)"
   ]
  },
  {
   "cell_type": "markdown",
   "metadata": {},
   "source": [
    "## Stratified Kfold + Regularization Results"
   ]
  },
  {
   "cell_type": "markdown",
   "metadata": {},
   "source": [
    "\n",
    "| Neural Networks | Logistic Regression | K-Nearest Neighbor | Naive Bayes |\n",
    "|----------|----------|----------|----------|\n",
    "|  0.798948310319417    |    0.8191149839789963   |      0.7977260654305127 |    0.7893233240641071|\n"
   ]
  },
  {
   "cell_type": "markdown",
   "metadata": {},
   "source": [
    "As we can see from the results, the accuracies of the 4 models increased. For NN, increased by approx. 2%. For Logistic Regression, increased by approx. 4%. For KNN, increased by approx. 2%. For Naive Bayes, increased by approx 1%. This suggests that the combination of kfold and stratified sampling is more effective in evaluating and assessing the performance of the model.  This indicates that the combined approach provides improved representativeness, reduced bias, enhanced model learning, and better generalization. "
   ]
  },
  {
   "cell_type": "markdown",
   "metadata": {},
   "source": [
    "# ---------------------------------------------------------------------------------------------------------------"
   ]
  },
  {
   "cell_type": "markdown",
   "metadata": {},
   "source": [
    "# ROC Curve"
   ]
  },
  {
   "cell_type": "markdown",
   "metadata": {},
   "source": [
    "# ---------------------------------------------------------------------------------------------------------------"
   ]
  },
  {
   "cell_type": "markdown",
   "metadata": {},
   "source": [
    "Receiver operating characteristic curve is a graph showing the performance of a classification model at all classification thresholds. This curve plots two parameters:\n",
    "True Positive Rate: which is the probability that an actual positive will test positive.\n",
    "False Positive Rate: which is the probability of incorrect predictions in positive class"
   ]
  },
  {
   "cell_type": "markdown",
   "metadata": {},
   "source": [
    "we will create a generalized function to plot the ROC Curve and input to it the 4 models"
   ]
  },
  {
   "cell_type": "code",
   "execution_count": 266,
   "metadata": {},
   "outputs": [],
   "source": [
    "def ROC_CURVE(model,Y, X_test, y_test):\n",
    "    y_test_bin = label_binarize(y_test, classes=np.unique(y_test))\n",
    "    #computing the predicted probabilities for each class\n",
    "    y_pred_prob = model.predict_proba(X_test)\n",
    "    #computing the ROC curve and ROC area for each class\n",
    "    fpr = dict()\n",
    "    tpr = dict()\n",
    "    roc_auc = dict()\n",
    "    for i in range(len(np.unique(Y))):\n",
    "        fpr[i], tpr[i], _ = roc_curve(y_test_bin[:, i], y_pred_prob[:, i])\n",
    "        roc_auc[i] = auc(fpr[i], tpr[i])\n",
    "    #plotting the ROC curve for each class\n",
    "    plt.figure()\n",
    "    colors = cycle(['blue', 'red', 'green'])  #customizing colors for each class\n",
    "    for i, color in zip(range(len(np.unique(Y))), colors):\n",
    "        plt.plot(fpr[i], tpr[i], color=color, lw=2, label='ROC curve (area = %0.2f)' % roc_auc[i])\n",
    "    plt.plot([0, 1], [0, 1], color='navy', lw=2, linestyle='--')\n",
    "    plt.xlim([0.0, 1.0])\n",
    "    plt.ylim([0.0, 1.05])\n",
    "    plt.xlabel('False Positive Rate')\n",
    "    plt.ylabel('True Positive Rate')\n",
    "    plt.title('Receiver Operating Characteristic')\n",
    "    plt.legend(loc=\"lower right\")\n",
    "    plt.show()\n"
   ]
  },
  {
   "cell_type": "markdown",
   "metadata": {},
   "source": [
    "#### Code Explanation"
   ]
  },
  {
   "cell_type": "markdown",
   "metadata": {},
   "source": [
    "We defined a function named ROC_CURVE that takes a trained model, target variable(Y), test set features(X_test), and test set targets(y_test) as input. The function does the following:\n",
    "\n",
    "\n",
    "*   Binarizes the target variable using label_binarize() function from scikit-learn library.\n",
    "\n",
    "*   Predicts class probabilities for each test sample using predict_proba() method of the model object.\n",
    "*   Computes the Receiver Operating Characteristic (ROC) curve and area under the curve (AUC) for each class using roc_curve() and auc() functions from scikit-learn library.\n",
    "*   Plots the ROC curve for each class, where the x-axis represents the False Positive Rate and the y-axis represents the True Positive Rate.\n",
    "Finally, shows the plot.\n"
   ]
  },
  {
   "cell_type": "markdown",
   "metadata": {},
   "source": [
    "## 1- Neural Networks"
   ]
  },
  {
   "cell_type": "code",
   "execution_count": 355,
   "metadata": {},
   "outputs": [
    {
     "data": {
      "image/png": "[encoded data removed]",
      "text/plain": [
       "<Figure size 432x288 with 1 Axes>"
      ]
     },
     "metadata": {
      "needs_background": "light"
     },
     "output_type": "display_data"
    }
   ],
   "source": [
    "ROC_CURVE(NNModel, NNyStratify, NNxtest, NNytest)"
   ]
  },
  {
   "cell_type": "markdown",
   "metadata": {},
   "source": [
    "#### Neural Networks ROC Curve:"
   ]
  },
  {
   "cell_type": "markdown",
   "metadata": {},
   "source": [
    "The graph shows the Receiver Operating Characteristic (ROC) curves for a Neural Network model. The curves display the relationship between the true positive rate (sensitivity) and the false positive rate (1-specificity) for different thresholds of the model. \n",
    "\n",
    "The graph has three ROC curves, each representing the performance of the model on a different test set. The area under each curve (AUC) is indicated by the number in the parentheses and represents the model's ability to distinguish between positive and negative classes. \n",
    "\n",
    "The first curve has an AUC of 0.74, indicating that the model has a moderately good performance. The second and third curves have AUCs of 0.61 and 0.62, respectively, indicating a lower performance compared to the first curve. \n",
    "\n",
    "Overall, the graph suggests that the logistic regression model has a moderate performance in distinguishing between the positive and negative classes, but there is room for improvement."
   ]
  },
  {
   "cell_type": "markdown",
   "metadata": {},
   "source": [
    "## 2- Logistic Regression"
   ]
  },
  {
   "cell_type": "code",
   "execution_count": 356,
   "metadata": {},
   "outputs": [
    {
     "data": {
      "image/png": "[encoded data removed]",
      "text/plain": [
       "<Figure size 432x288 with 1 Axes>"
      ]
     },
     "metadata": {
      "needs_background": "light"
     },
     "output_type": "display_data"
    }
   ],
   "source": [
    "ROC_CURVE(LRModel, LRyStratify, LRxtest, LRytest)"
   ]
  },
  {
   "cell_type": "markdown",
   "metadata": {},
   "source": [
    "#### Logistic Regression ROC Curve:"
   ]
  },
  {
   "cell_type": "markdown",
   "metadata": {},
   "source": [
    "In this case, there are three ROC curves shown, each with a different AUC value. The blue curve has an AUC of 0.74, the orange curve has an AUC of 0.61, and the green curve has an AUC of 0.62. The curve with the highest AUC is considered to be the best-performing model, and in this case, it is the blue curve. \n",
    "\n",
    "The false positive rate is shown on the x-axis, and the true positive rate is shown on the y-axis. The point at (0,0) represents a classifier that predicts negative for all instances, while the point at (1,1) represents a classifier that predicts positive for all instances. The ROC curve starts at (0,0) and moves towards (1,1) as the threshold for classification becomes more lenient. \n",
    "\n",
    "Overall, the graph shows that the logistic regression model has some ability to distinguish between positive and negative classes, but there is room for improvement as the highest AUC value is 0.74."
   ]
  },
  {
   "cell_type": "markdown",
   "metadata": {},
   "source": [
    "## 3- KNN"
   ]
  },
  {
   "cell_type": "code",
   "execution_count": 357,
   "metadata": {},
   "outputs": [
    {
     "data": {
      "image/png": "[encoded data removed]",
      "text/plain": [
       "<Figure size 432x288 with 1 Axes>"
      ]
     },
     "metadata": {
      "needs_background": "light"
     },
     "output_type": "display_data"
    }
   ],
   "source": [
    "ROC_CURVE(KNNModel, KNNyStratify, KNNxtest, KNNytest)"
   ]
  },
  {
   "cell_type": "markdown",
   "metadata": {},
   "source": [
    "#### KNN ROC Curve:"
   ]
  },
  {
   "cell_type": "markdown",
   "metadata": {},
   "source": [
    "The given image shows the Receiver Operating Characteristic (ROC) curves for a KNN model trained on a dataset, with three different area values for each curve (0.61, 0.57, and 0.58). \n",
    "Based on the plot, we can also see that as the False Positive Rate increases, the True Positive Rate also increases, indicating that the model is able to correctly classify more positive instances at higher thresholds. Overall, the ROC curve provides a useful visualization of a classifier's performance and can be used to compare the performance of different models."
   ]
  },
  {
   "cell_type": "markdown",
   "metadata": {},
   "source": [
    "## 4- Naive Bayes"
   ]
  },
  {
   "cell_type": "code",
   "execution_count": 358,
   "metadata": {},
   "outputs": [
    {
     "data": {
      "image/png": "[encoded data removed]",
      "text/plain": [
       "<Figure size 432x288 with 1 Axes>"
      ]
     },
     "metadata": {
      "needs_background": "light"
     },
     "output_type": "display_data"
    }
   ],
   "source": [
    "ROC_CURVE(NBModel, NByStratify, NBxtest, NBytest)"
   ]
  },
  {
   "cell_type": "markdown",
   "metadata": {},
   "source": [
    "#### Neural Naive Bayes ROC Curve:"
   ]
  },
  {
   "cell_type": "markdown",
   "metadata": {},
   "source": [
    "In this case, the first Naive Bayes model had the highest AUC of 0.67, indicating the best performance, whereas the other three models had lower AUCs of 0.57, 0.58, and 0.6. The false positive rate and true positive rate are also shown on the graph, with the optimal point being at the top-left corner of the graph, indicating a model with high true positive rate and low false positive rate."
   ]
  },
  {
   "cell_type": "markdown",
   "metadata": {},
   "source": [
    "# --------------------------------------------------------------------------------------------------------------"
   ]
  },
  {
   "cell_type": "markdown",
   "metadata": {},
   "source": [
    "# Learning Curve "
   ]
  },
  {
   "cell_type": "markdown",
   "metadata": {},
   "source": [
    "# ---------------------------------------------------------------------------------------------------------------"
   ]
  },
  {
   "cell_type": "markdown",
   "metadata": {},
   "source": [
    "A learning curve shows the relationship of the training score versus the cross validated test score for an estimator with a varying number of training samples.It is used to show two things; How much the estimator benefits from more data  and If the estimator is more sensitive to error due to variance vs. error due to bias."
   ]
  },
  {
   "cell_type": "markdown",
   "metadata": {},
   "source": [
    "we will create a generalized function to plot the Learning Curve and input to it the 4 models"
   ]
  },
  {
   "cell_type": "code",
   "execution_count": 2,
   "metadata": {},
   "outputs": [],
   "source": [
    "def LEARNING_CURVE(model, X, Y):\n",
    "    train_sizes, train_scores, test_scores = learning_curve(model, X, Y, cv=5, scoring='accuracy',\n",
    "                                                            train_sizes=np.linspace(0.1, 1.0, 10))\n",
    "    plt.figure(figsize=(14, 14))\n",
    "    train_mean = np.mean(train_scores, axis=1)\n",
    "    train_std = np.std(train_scores, axis=1)\n",
    "    test_mean = np.mean(test_scores, axis=1)\n",
    "    test_std = np.std(test_scores, axis=1)\n",
    "    plt.plot(train_sizes, train_mean, 'o-', color='r', label='Training score')\n",
    "    plt.plot(train_sizes, test_mean, 'o-', color='g', label='Cross validation score')\n",
    "    plt.fill_between(train_sizes, train_mean - train_std, train_mean + train_std, alpha=0.1, color='r')\n",
    "    plt.fill_between(train_sizes, test_mean - test_std, test_mean + test_std, alpha=0.1, color='g')\n",
    "    plt.xlabel('Training set size')\n",
    "    plt.ylabel('Error')\n",
    "    plt.legend(loc='best')\n",
    "    plt.grid(True)\n",
    "    plt.show"
   ]
  },
  {
   "cell_type": "markdown",
   "metadata": {},
   "source": [
    "#### Code Explanation"
   ]
  },
  {
   "cell_type": "markdown",
   "metadata": {},
   "source": [
    "We defined a function named LEARNING_CURVE that takes a trained model, features(X), and target variable(Y) as input. The function does the following:\n",
    "- Uses the learning_curve() function from scikit-learn library to generate learning curves for the model.\n",
    "- The learning_curve() function generates train_sizes, train_scores, and test_scores for different training set sizes and cross-validation scores.\n",
    "- The function calculates the mean and standard deviation of the train and test scores across different training set sizes.\n",
    "- Plots the learning curves using matplotlib library. The x-axis represents the training set size, and the y-axis represents the error.\n",
    "- The function plots the training score and the cross-validation score for each training set size, along with the mean and standard deviation of each score.\n",
    "- Finally, shows the plot."
   ]
  },
  {
   "cell_type": "markdown",
   "metadata": {},
   "source": [
    "We will generate learning curves for Neural Networks and Logistic Regression only because it is irrelevant to generate for KNN and Naive Bayes since these algorithms don't include a training dataset. "
   ]
  },
  {
   "cell_type": "markdown",
   "metadata": {},
   "source": [
    "## 1- Neural Networks"
   ]
  },
  {
   "cell_type": "code",
   "execution_count": 84,
   "metadata": {},
   "outputs": [
    {
     "data": {
      "image/png": "[encoded data removed]",
      "text/plain": [
       "<Figure size 1008x1008 with 1 Axes>"
      ]
     },
     "metadata": {
      "needs_background": "light"
     },
     "output_type": "display_data"
    }
   ],
   "source": [
    "LEARNING_CURVE(NNModel, X, NNyStratify)"
   ]
  },
  {
   "cell_type": "markdown",
   "metadata": {},
   "source": [
    "## 2- Logistic Regression"
   ]
  },
  {
   "cell_type": "code",
   "execution_count": 85,
   "metadata": {},
   "outputs": [
    {
     "data": {
      "image/png": "[encoded data removed]",
      "text/plain": [
       "<Figure size 1008x1008 with 1 Axes>"
      ]
     },
     "metadata": {
      "needs_background": "light"
     },
     "output_type": "display_data"
    }
   ],
   "source": [
    "LEARNING_CURVE(LRModel, X, LRyStratify)"
   ]
  },
  {
   "cell_type": "markdown",
   "metadata": {},
   "source": [
    "## Learning Curve Results Interpretation"
   ]
  },
  {
   "cell_type": "markdown",
   "metadata": {},
   "source": [
    "From the 2 curves, it is shown that the cross validation error which is approx. 0.78 is constant/plateau. As the training dataset size increases, the training set error decreases from approx 0.85 till it converges to the same error of the cross validation which is the desired performance in this case because it suggests that the model is likely to perform well on new, unseen data."
   ]
  },
  {
   "cell_type": "markdown",
   "metadata": {},
   "source": [
    "# --------------------------------------------------------------------------------------------------------------"
   ]
  },
  {
   "cell_type": "markdown",
   "metadata": {},
   "source": [
    "# Confusion Matrix"
   ]
  },
  {
   "cell_type": "markdown",
   "metadata": {},
   "source": [
    "# ---------------------------------------------------------------------------------------------------------------"
   ]
  },
  {
   "cell_type": "markdown",
   "metadata": {},
   "source": [
    "A confusion matrix is a table that is used to define the performance of a classification algorithm. It plots a table of all the predicted and actual values of a classifier. It shows the number of true positives, false positives, true negatives, and false negatives for a classification model."
   ]
  },
  {
   "cell_type": "markdown",
   "metadata": {},
   "source": [
    "we will create a generalized function to plot the Confusion Matrix and input to it the 4 models"
   ]
  },
  {
   "cell_type": "code",
   "execution_count": 120,
   "metadata": {},
   "outputs": [],
   "source": [
    "def CONFUSION_MATRIX(y_test, y_pred):\n",
    "    confusion_mat = confusion_matrix(y_test, y_pred)\n",
    "    # Visualize the confusion matrix\n",
    "    plt.figure(figsize=(6, 6))\n",
    "    sns.heatmap(confusion_mat, annot=True, cmap=\"Blues\", fmt=\"d\")\n",
    "    plt.title(\"Confusion Matrix\")\n",
    "    plt.xlabel(\"Predicted Class\")\n",
    "    plt.ylabel(\"Actual Class\")\n",
    "    handles = [plt.Rectangle((0, 0), 1, 1, color='blue', label=f'{key} = {value}') for key, value in legend_labels.items()]\n",
    "    plt.legend(handles=handles, loc='upper right')\n",
    "    plt.show()"
   ]
  },
  {
   "cell_type": "markdown",
   "metadata": {},
   "source": [
    "#### Code Explanation"
   ]
  },
  {
   "cell_type": "markdown",
   "metadata": {},
   "source": [
    "We defined a function `CONFUSION_MATRIX` that takes two arguments `y_test` and `y_pred` and generates a confusion matrix plot using the `confusion_matrix` function from scikit-learn and the `heatmap` function from seaborn.  The function also adds labels to the plot and a legend that maps the class labels to colors. The legend_labels dictionary maps class labels 0, 1, and 2 to the strings 'Fatal', 'Serious', and 'Slight', respectively. The `plt.show()` function is used to display the plot"
   ]
  },
  {
   "cell_type": "markdown",
   "metadata": {},
   "source": [
    "## 1- Neural Networks"
   ]
  },
  {
   "cell_type": "code",
   "execution_count": 163,
   "metadata": {},
   "outputs": [
    {
     "data": {
      "image/png": "[encoded data removed]",
      "text/plain": [
       "<Figure size 432x432 with 2 Axes>"
      ]
     },
     "metadata": {
      "needs_background": "light"
     },
     "output_type": "display_data"
    }
   ],
   "source": [
    "CONFUSION_MATRIX(NNytest, NNypred)"
   ]
  },
  {
   "cell_type": "markdown",
   "metadata": {},
   "source": [
    "## 2- Logistic Regression"
   ]
  },
  {
   "cell_type": "code",
   "execution_count": 164,
   "metadata": {},
   "outputs": [
    {
     "data": {
      "image/png": "[encoded data removed]",
      "text/plain": [
       "<Figure size 432x432 with 2 Axes>"
      ]
     },
     "metadata": {
      "needs_background": "light"
     },
     "output_type": "display_data"
    }
   ],
   "source": [
    "CONFUSION_MATRIX(LRytest, LRypred)"
   ]
  },
  {
   "cell_type": "markdown",
   "metadata": {},
   "source": [
    "## 3- KNN"
   ]
  },
  {
   "cell_type": "code",
   "execution_count": 158,
   "metadata": {},
   "outputs": [
    {
     "data": {
      "image/png": "[encoded data removed]",
      "text/plain": [
       "<Figure size 432x432 with 2 Axes>"
      ]
     },
     "metadata": {
      "needs_background": "light"
     },
     "output_type": "display_data"
    }
   ],
   "source": [
    "CONFUSION_MATRIX(KNNytest, KNNypred)"
   ]
  },
  {
   "cell_type": "markdown",
   "metadata": {},
   "source": [
    "## 4- Naive Bayes"
   ]
  },
  {
   "cell_type": "code",
   "execution_count": 161,
   "metadata": {},
   "outputs": [
    {
     "data": {
      "image/png": "[encoded data removed]",
      "text/plain": [
       "<Figure size 432x432 with 2 Axes>"
      ]
     },
     "metadata": {
      "needs_background": "light"
     },
     "output_type": "display_data"
    }
   ],
   "source": [
    "CONFUSION_MATRIX(NBytest, NBypred)"
   ]
  },
  {
   "cell_type": "markdown",
   "metadata": {},
   "source": [
    "## Confusion Matrix Results Interpretation"
   ]
  },
  {
   "cell_type": "markdown",
   "metadata": {},
   "source": [
    "Most of the data set is labeled slight so models predict Slight class better than all other classes as it is the most frequently seen by the model during training phase. Logistic regression is the only algorithm that has the capability to predict the 3 classes, while for the rest, accident severity 'Fatal' was not predicted at all, and in the case of Naive Bayes, it has only the capability to predict one class which is Slight."
   ]
  },
  {
   "cell_type": "markdown",
   "metadata": {},
   "source": [
    "# ---------------------------------------------------------------------------------------------------------------"
   ]
  },
  {
   "cell_type": "markdown",
   "metadata": {},
   "source": [
    "# Overall Models' Performance Evaluation"
   ]
  },
  {
   "cell_type": "markdown",
   "metadata": {},
   "source": [
    "According to all the previous trainig and evaluations, the results presented which include accuracy calculations, ROC curves, confusion matrices and learning curves show that the logistic regression model is the best model for our data set so far, as it provides good results for all the performance evaluation methods used."
   ]
  }
 ],
 "metadata": {
  "kernelspec": {
   "display_name": "Python 3 (ipykernel)",
   "language": "python",
   "name": "python3"
  },
  "language_info": {
   "codemirror_mode": {
    "name": "ipython",
    "version": 3
   },
   "file_extension": ".py",
   "mimetype": "text/x-python",
   "name": "python",
   "nbconvert_exporter": "python",
   "pygments_lexer": "ipython3",
   "version": "3.9.12"
  }
 },
 "nbformat": 4,
 "nbformat_minor": 4
}
